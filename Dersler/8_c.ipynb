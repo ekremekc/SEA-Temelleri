{
 "cells": [
  {
   "attachments": {},
   "cell_type": "markdown",
   "metadata": {},
   "source": [
    "# Global Sertlik Matrisi ve Kuvvet Vektörünün Oluşturulması\n",
    "\n",
    "Geçtiğimiz bölümde eleman sertlik matrisini ve kuvvet vektörünü referans elemanlar için integral formunda türetmiştik. Şimdi bu türettiğimiz denklemleri nümerik olarak hesaplayıp, global sertlik matrisini ve kuvvet vektörünü elde edelim. Hesaplamalara başlamadan önce problemin çözümünde kullanacağımız ağı (mesh) tanımlayalım. Şekil 3'te kullanacağımız ağ yapısı gösterilmiştir. Gri noktalar düğüm noktalarını göstermektedir. Eleman numaraları elemanların içinde yuvarlak içerisinde gösterilirken, düğüm noktalarının yanında numaraları ve $x-y$ koordinat sisteminde konumları metre cinsinden gösterilmektedir. "
   ]
  },
  {
   "attachments": {},
   "cell_type": "markdown",
   "metadata": {},
   "source": [
    "<img src=\"Resimler/Ders8/Sekil3.png\" align=\"center\" width= \"700\"/>"
   ]
  },
  {
   "cell_type": "markdown",
   "metadata": {},
   "source": [
    "## Global Sertlik Matrisinin Oluşturulması\n",
    "\n",
    "Öncelikle 8b'de referans eleman için türettiğimiz yerel sertlik matrisini ifade eden integrali hatırlayalım:\n",
    "\n",
    "$$\\int_{-1}^{1}\\int_{-1}^{1} \\mathbf{N}^{T}\\mathbf{J}^{T}\\mathbf{H}^{T}\\mathbf{C}\\mathbf{H}\\mathbf{J}\\mathbf{N}d\\eta d\\xi det(\\mathbf{J}).\\tag{1} $$\n"
   ]
  },
  {
   "cell_type": "markdown",
   "metadata": {},
   "source": [
    "Şimdi de integral içerisindeki matrisleri hatırlayalım:\n",
    "\n",
    "$$ \\mathbf{C}= \\frac{E}{(1-\\nu^{2})} \\begin{bmatrix} 1 & \\nu & 0 \\\\ \\nu & 1 & 0 \\\\ 0 & 0 & \\frac{1-\\nu}{2} \\end{bmatrix}, $$\n",
    "$$ \\mathbf{H}=\\begin{bmatrix} 1 & 0 & 0 & 0 \\\\ 0 & 0 & 0 & 1 \\\\ 0 & 1 & 1 & 0 \\end{bmatrix},$$\n",
    "$$\\mathbf{J}=\\begin{bmatrix} \\mathbf{J^{-1}} & 0 \\\\ 0 & \\mathbf{J^{-1}} \\end{bmatrix},$$\n",
    "$$\\mathbf{N}=\\begin{bmatrix} \\frac{\\partial N_1}{\\partial \\xi}  & 0 & \\frac{\\partial N_2}{\\partial \\xi}  & 0 & \\frac{\\partial N_3}{\\partial \\xi} & 0 & \\frac{\\partial N_4}{\\partial \\xi} & 0 & \\\\ \\\\ \\frac{\\partial N_1}{\\partial \\eta} & 0  & \\frac{\\partial N_2}{\\partial \\eta} & 0  & \\frac{\\partial N_3}{\\partial \\eta} & 0 & \\frac{\\partial N_4}{\\partial \\eta} & 0 \\\\ \\\\ 0  & \\frac{\\partial N_1}{\\partial \\xi}  & 0 & \\frac{\\partial N_2}{\\partial \\xi} & 0  & \\frac{\\partial N_3}{\\partial \\xi}  & 0 & \\frac{\\partial N_4}{\\partial \\xi}\\\\ \\\\ 0  & \\frac{\\partial N_1}{\\partial \\eta}  & 0 & \\frac{\\partial N_2}{\\partial \\eta} & 0  & \\frac{\\partial N_3}{\\partial \\eta}  & 0 & \\frac{\\partial N_4}{\\partial \\eta} \\end{bmatrix}.$$"
   ]
  },
  {
   "cell_type": "markdown",
   "metadata": {},
   "source": [
    "Görülebileceği üzere $\\mathbf{C}$ ve $\\mathbf{H}$ sabit değerli matrislerdir. İntegrali hesaplayabilmek için $\\mathbf{J}$ ve $\\mathbf{N}$ matirslerini tanımlamamız gerekir. Öncelikle bunun için 7. bölümde olduğu gibi *sympy* kütüphanesini kullanalım. "
   ]
  },
  {
   "cell_type": "code",
   "execution_count": 1,
   "metadata": {},
   "outputs": [],
   "source": [
    "import sys"
   ]
  },
  {
   "cell_type": "markdown",
   "metadata": {},
   "source": [
    "$\\mathbf{N}$ matrisini yazabilmek için şekil fonksiyonlarını sembolik olarak yazalım:"
   ]
  },
  {
   "cell_type": "code",
   "execution_count": 2,
   "metadata": {},
   "outputs": [
    {
     "data": {
      "text/latex": [
       "$\\displaystyle \\left[\\begin{matrix}\\frac{\\left(\\eta + 1\\right) \\left(\\xi + 1\\right)}{4}\\\\\\frac{\\left(1 - \\xi\\right) \\left(\\eta + 1\\right)}{4}\\\\\\frac{\\left(1 - \\eta\\right) \\left(1 - \\xi\\right)}{4}\\\\\\frac{\\left(1 - \\eta\\right) \\left(\\xi + 1\\right)}{4}\\end{matrix}\\right]$"
      ],
      "text/plain": [
       "Matrix([\n",
       "[(eta + 1)*(xi + 1)/4],\n",
       "[(1 - xi)*(eta + 1)/4],\n",
       "[(1 - eta)*(1 - xi)/4],\n",
       "[(1 - eta)*(xi + 1)/4]])"
      ]
     },
     "execution_count": 2,
     "metadata": {},
     "output_type": "execute_result"
    }
   ],
   "source": [
    "import sympy as sp\n",
    "import numpy as np\n",
    "\n",
    "xi = sp.Symbol(\"xi\")\n",
    "eta = sp.Symbol(\"eta\")\n",
    "x_ = sp.symbols(\"x1,x2,x3,x4\")\n",
    "y_ = sp.symbols(\"y1,y2,y3,y4\")\n",
    "şekil = sp.Matrix([(1+xi)*(1+eta)/4,\n",
    "                   (1-xi)*(1+eta)/4,\n",
    "                   (1-xi)*(1-eta)/4,\n",
    "                   (1+xi)*(1-eta)/4])\n",
    "şekil"
   ]
  },
  {
   "cell_type": "markdown",
   "metadata": {},
   "source": [
    "Şimdi şekil fonksiyonlarının $\\xi$ ve $\\eta$'e göre türevlerini alıp $\\mathbf{N}$'i tanımlayalım:"
   ]
  },
  {
   "cell_type": "code",
   "execution_count": 3,
   "metadata": {},
   "outputs": [
    {
     "data": {
      "text/latex": [
       "$\\displaystyle \\left[\\begin{matrix}\\frac{\\eta}{4} + \\frac{1}{4} & 0 & - \\frac{\\eta}{4} - \\frac{1}{4} & 0 & \\frac{\\eta}{4} - \\frac{1}{4} & 0 & \\frac{1}{4} - \\frac{\\eta}{4} & 0\\\\\\frac{\\xi}{4} + \\frac{1}{4} & 0 & \\frac{1}{4} - \\frac{\\xi}{4} & 0 & \\frac{\\xi}{4} - \\frac{1}{4} & 0 & - \\frac{\\xi}{4} - \\frac{1}{4} & 0\\\\0 & \\frac{\\eta}{4} + \\frac{1}{4} & 0 & - \\frac{\\eta}{4} - \\frac{1}{4} & 0 & \\frac{\\eta}{4} - \\frac{1}{4} & 0 & \\frac{1}{4} - \\frac{\\eta}{4}\\\\0 & \\frac{\\xi}{4} + \\frac{1}{4} & 0 & \\frac{1}{4} - \\frac{\\xi}{4} & 0 & \\frac{\\xi}{4} - \\frac{1}{4} & 0 & - \\frac{\\xi}{4} - \\frac{1}{4}\\end{matrix}\\right]$"
      ],
      "text/plain": [
       "Matrix([\n",
       "[eta/4 + 1/4,           0, -eta/4 - 1/4,            0, eta/4 - 1/4,           0, 1/4 - eta/4,           0],\n",
       "[ xi/4 + 1/4,           0,   1/4 - xi/4,            0,  xi/4 - 1/4,           0, -xi/4 - 1/4,           0],\n",
       "[          0, eta/4 + 1/4,            0, -eta/4 - 1/4,           0, eta/4 - 1/4,           0, 1/4 - eta/4],\n",
       "[          0,  xi/4 + 1/4,            0,   1/4 - xi/4,           0,  xi/4 - 1/4,           0, -xi/4 - 1/4]])"
      ]
     },
     "execution_count": 3,
     "metadata": {},
     "output_type": "execute_result"
    }
   ],
   "source": [
    "gradyen_xi = sp.diff(şekil, xi)\n",
    "gradyen_eta = sp.diff(şekil, eta)\n",
    "\n",
    "N = sp.Matrix([[gradyen_xi[0],0,gradyen_xi[1],0,gradyen_xi[2],0, gradyen_xi[3],0],[gradyen_eta[0],0,gradyen_eta[1],0,gradyen_eta[2],0, gradyen_eta[3],0],[0,gradyen_xi[0],0,gradyen_xi[1],0, gradyen_xi[2],0,gradyen_xi[3]],[0,gradyen_eta[0],0,gradyen_eta[1],0, gradyen_eta[2],0,gradyen_eta[3]]])\n",
    "\n",
    "N"
   ]
  },
  {
   "cell_type": "markdown",
   "metadata": {},
   "source": [
    "Şimdi jakopyen matrisini oluşturup 1. eleman için $\\mathbf{J}$ matrisini hesaplayalım:"
   ]
  },
  {
   "cell_type": "code",
   "execution_count": 29,
   "metadata": {},
   "outputs": [
    {
     "data": {
      "text/latex": [
       "$\\displaystyle 0.0012 \\xi + 0.0052$"
      ],
      "text/plain": [
       "0.0012*xi + 0.0052"
      ]
     },
     "execution_count": 29,
     "metadata": {},
     "output_type": "execute_result"
    }
   ],
   "source": [
    "c_şekil = sp.Matrix([0, 0])\n",
    "for i in range(4):\n",
    "    c_şekil[0] += x_[i] * şekil[i]\n",
    "    c_şekil[1] += y_[i] * şekil[i]\n",
    "j = c_şekil.jacobian([xi, eta]).T\n",
    "x_koord = [0,     0.16,    0.16,  0.0] \n",
    "y_koord = [-0.32,-0.20,   -0.1, -0.16]\n",
    "    \n",
    "for nokta in range(4):\n",
    "    j = j.subs(x_[nokta],x_koord[nokta]) \n",
    "    j = j.subs(y_[nokta],y_koord[nokta])\n",
    "\n",
    "J= sp.Matrix.zeros(4,4)\n",
    "J[:2,:2] = j.inv()\n",
    "J[2:,2:] = j.inv()\n",
    "det = j.det()\n"
   ]
  },
  {
   "cell_type": "markdown",
   "metadata": {},
   "source": [
    "Son olarak $\\mathbf{C}$ ve $\\mathbf{H}$ matrislerini tanımlayıp, 1. eleman için eleman sertlik matrisini elde edelim:"
   ]
  },
  {
   "cell_type": "code",
   "execution_count": 31,
   "metadata": {},
   "outputs": [
    {
     "data": {
      "text/plain": [
       "array([[ 2302296.38439272,   297511.03435311, -1430926.96228108,\n",
       "         -970523.14947047,    57300.5886547 ,  -952553.77360645,\n",
       "         -928670.01076633,  1625565.88872382],\n",
       "       [  297511.03435311,  4377491.53780427,  -695797.87474519,\n",
       "         1498760.79226041,  -952553.77360646, -1979530.02302965,\n",
       "         1350840.61399854, -3896722.30703504],\n",
       "       [-1430926.96228108,  -695797.87474519,  9899373.24953983,\n",
       "        -3666943.18062747, -2344428.19459479,  1743866.25755055,\n",
       "        -6124018.09266397,  2618874.79782212],\n",
       "       [ -970523.14947047,  1498760.79226041, -3666943.18062747,\n",
       "         7979729.98513059,  2018591.53227583, -5335499.21589982,\n",
       "         2618874.79782212, -4142991.56149119],\n",
       "       [   57300.5886547 ,  -952553.77360645, -2344428.19459478,\n",
       "         2018591.53227582,  3718054.56822117,   -95514.6091989 ,\n",
       "        -1430926.96228108,  -970523.14947047],\n",
       "       [ -952553.77360646, -1979530.02302965,  1743866.25755055,\n",
       "        -5335499.21589981,   -95514.6091989 ,  5816268.44666905,\n",
       "         -695797.87474519,  1498760.79226041],\n",
       "       [ -928670.01076634,  1350840.61399854, -6124018.09266397,\n",
       "         2618874.79782212, -1430926.96228108,  -695797.87474519,\n",
       "         8483615.06571139, -3273917.53707546],\n",
       "       [ 1625565.88872382, -3896722.30703504,  2618874.79782212,\n",
       "        -4142991.56149119,  -970523.14947047,  1498760.79226041,\n",
       "        -3273917.53707547,  6540953.07626581]])"
      ]
     },
     "execution_count": 31,
     "metadata": {},
     "output_type": "execute_result"
    }
   ],
   "source": [
    "E=10000000\n",
    "v=0.3\n",
    "H=sp.Matrix([[1,0,0,0],[0,0,0,1],[0,1,1,0]])\n",
    "C=sp.Matrix([[1,v,0],[v,1,0],[0,0,(1-v)/2]])*E/(1-v**2)\n",
    "K_ele_sys=N.T*J.T*H.T*C*H*J*N*det\n",
    "from scipy import integrate\n",
    "from sympy.utilities import lambdify\n",
    "\n",
    "K_e = np.zeros((8,8))\n",
    "for i in range(8):\n",
    "    for j in range(8):\n",
    "        # scipy'da bulunan integrasyon fonksiyonunu kullanmak için\n",
    "        # hücre değerlerini geçici olarak 'lambda' formatına çevirmemiz gerekiyor.\n",
    "        geçici_fonksiyon = lambdify( (xi,eta), K_ele_sys[i,j], 'math' )\n",
    "        K_e[i,j] += integrate.nquad(geçici_fonksiyon, [[-1, 1],[-1, 1]])[0]\n",
    "K_e\n"
   ]
  },
  {
   "cell_type": "markdown",
   "metadata": {},
   "source": [
    "Şimdi herhangi bir eleman için $\\mathbf{J}$ ve eleman sertlik matrisini hesaplayan fonksiyonumuzu tanımlayalım:"
   ]
  },
  {
   "cell_type": "code",
   "execution_count": null,
   "metadata": {},
   "outputs": [],
   "source": [
    "def lokal_jakobyen(self, x_koord,y_koord):\n",
    "    # Elemana ait noktaların global indislerini içeren dizi\n",
    "    eleman_nokta_indisler = self.mesh.elemanlar[eleman_no]\n",
    "    # Elemana ait koordinatların x ve y noktalarını içeren dizi\n",
    "    eleman_noktalar = np.take(self.mesh.noktalar, eleman_nokta_indisler, axis=0)\n",
    "        \n",
    "    J = self.J\n",
    "    c_şekil = sp.Matrix([0, 0])\n",
    "    for i in range(4):\n",
    "        c_şekil[0] += x_[i] * şekil[i]\n",
    "        c_şekil[1] += y_[i] * şekil[i]\n",
    "        j = c_şekil.jacobian([xi, eta]).T\n",
    "    \n",
    "    for nokta in range(4):\n",
    "        j = j.subs(x_[nokta],x_koord[nokta]) \n",
    "        j = j.subs(y_[nokta],y_koord[nokta])\n",
    "\n",
    "        J= sp.Matrix.zeros(4,4)\n",
    "        J[:2,:2] = j.inv()\n",
    "        J[2:,2:] = j.inv()\n",
    "        det = j.det()\n",
    "        \n",
    "return J\n",
    "\n",
    "\n",
    "def K_e_eleman(V, eleman_no, k):\n",
    "\n",
    "    J = V.lokal_jakobyen(eleman_no)\n",
    "\n",
    "    K_e_sym = V.gradyen.T*(J**(-1)).T*k*(J**(-1))*V.gradyen*J.det()\n",
    "\n",
    "    K_e = np.zeros((V.nokta_sayısı,V.nokta_sayısı))\n",
    "\n",
    "    for i in range(V.nokta_sayısı):\n",
    "        for j in range(V.nokta_sayısı):\n",
    "            geçici_fonksiyon = lambdify( (V.xi,V.eta), K_e_sym[i,j], 'math' )\n",
    "            K_e[i,j] += integrate.nquad(geçici_fonksiyon, [[-1, 1],[-1, 1]])[0]\n",
    "            \n",
    "return K_e"
   ]
  }
 ],
 "metadata": {
  "kernelspec": {
   "display_name": "Python 3",
   "language": "python",
   "name": "python3"
  },
  "language_info": {
   "codemirror_mode": {
    "name": "ipython",
    "version": 3
   },
   "file_extension": ".py",
   "mimetype": "text/x-python",
   "name": "python",
   "nbconvert_exporter": "python",
   "pygments_lexer": "ipython3",
   "version": "3.11.0"
  },
  "orig_nbformat": 4
 },
 "nbformat": 4,
 "nbformat_minor": 2
}
