{
 "cells": [
  {
   "cell_type": "markdown",
   "metadata": {},
   "source": [
    "# 2 Boyutlu Vektörel Değişken İçeren Elastisite Probleminin Çözümü\n",
    "\n",
    "Geçtiğimiz bölümde eleman sertlik matrisini ve kuvvet vektörünü referans elemanlar için integral formunda türetmiştik. Şimdi bu türettiğimiz denklemleri nümerik olarak hesaplayıp, global sertlik matrisini ve kuvvet vektörünü elde edelim. Hesaplamalara başlamadan önce problemin çözümünde kullanacağımız ağı (mesh) tanımlayalım. Şekil 3'te kullanacağımız ağ yapısı gösterilmiştir. Gri noktalar düğüm noktalarını göstermektedir. Eleman numaraları elemanların içinde yuvarlak içerisinde gösterilirken, düğüm noktalarının yanında numaraları ve $x-y$ koordinat sisteminde konumları metre cinsinden gösterilmektedir. "
   ]
  },
  {
   "cell_type": "markdown",
   "metadata": {},
   "source": [
    "<img src=\"Resimler/Ders8/Sekil3.png\" align=\"center\" width= \"700\"/>"
   ]
  },
  {
   "cell_type": "markdown",
   "metadata": {},
   "source": [
    "## Yerel Sertlik Matrisinin Oluşturulması\n",
    "\n",
    "Öncelikle 8b'de referans eleman için türettiğimiz yerel sertlik matrisini ifade eden integrali hatırlayalım:\n",
    "\n",
    "$$\\int_{-1}^{1}\\int_{-1}^{1} \\mathbf{N}^{T}\\mathbf{J}^{T}\\mathbf{H}^{T}\\mathbf{C}\\mathbf{H}\\mathbf{J}\\mathbf{N}d\\eta d\\xi det(\\mathbf{J}).\\tag{1} $$\n"
   ]
  },
  {
   "cell_type": "markdown",
   "metadata": {},
   "source": [
    "Şimdi de bir önceki bölümde türettiğiniz integral içerisindeki matrisleri hatırlayalım:\n",
    "\n",
    "$$ \\mathbf{C}= \\frac{E}{(1-\\nu^{2})} \\begin{bmatrix} 1 & \\nu & 0 \\\\ \\nu & 1 & 0 \\\\ 0 & 0 & \\frac{1-\\nu}{2} \\end{bmatrix}, $$\n",
    "$$ \\mathbf{H}=\\begin{bmatrix} 1 & 0 & 0 & 0 \\\\ 0 & 0 & 0 & 1 \\\\ 0 & 1 & 1 & 0 \\end{bmatrix},$$\n",
    "$$\\mathbf{J}=\\begin{bmatrix} \\mathbf{J^{-1}} & 0 \\\\ 0 & \\mathbf{J^{-1}} \\end{bmatrix},$$\n",
    "$$\\mathbf{N}=\\begin{bmatrix} \\frac{\\partial N_1}{\\partial \\xi}  & 0 & \\frac{\\partial N_2}{\\partial \\xi}  & 0 & \\frac{\\partial N_3}{\\partial \\xi} & 0 & \\frac{\\partial N_4}{\\partial \\xi} & 0 & \\\\ \\\\ \\frac{\\partial N_1}{\\partial \\eta} & 0  & \\frac{\\partial N_2}{\\partial \\eta} & 0  & \\frac{\\partial N_3}{\\partial \\eta} & 0 & \\frac{\\partial N_4}{\\partial \\eta} & 0 \\\\ \\\\ 0  & \\frac{\\partial N_1}{\\partial \\xi}  & 0 & \\frac{\\partial N_2}{\\partial \\xi} & 0  & \\frac{\\partial N_3}{\\partial \\xi}  & 0 & \\frac{\\partial N_4}{\\partial \\xi}\\\\ \\\\ 0  & \\frac{\\partial N_1}{\\partial \\eta}  & 0 & \\frac{\\partial N_2}{\\partial \\eta} & 0  & \\frac{\\partial N_3}{\\partial \\eta}  & 0 & \\frac{\\partial N_4}{\\partial \\eta} \\end{bmatrix}.$$"
   ]
  },
  {
   "cell_type": "markdown",
   "metadata": {},
   "source": [
    "Görülebileceği üzere $\\mathbf{C}$ ve $\\mathbf{H}$ sabit değerli matrislerdir. İntegrali hesaplayabilmek için $\\mathbf{J}$ ve $\\mathbf{N}$ matirslerini tanımlamamız gerekir. Öncelikle bunun için 7. bölümde olduğu gibi *sympy* kütüphanesini kullanalım. "
   ]
  },
  {
   "cell_type": "markdown",
   "metadata": {},
   "source": [
    "Bölüm 7'de olduğu gibi $\\mathbf{N}$ matrisini yazabilmek için şekil fonksiyonlarını sembolik olarak yazalım:"
   ]
  },
  {
   "cell_type": "code",
   "execution_count": 19,
   "metadata": {},
   "outputs": [
    {
     "data": {
      "text/latex": [
       "$\\displaystyle \\left[\\begin{matrix}\\frac{\\left(\\eta + 1\\right) \\left(\\xi + 1\\right)}{4}\\\\\\frac{\\left(1 - \\xi\\right) \\left(\\eta + 1\\right)}{4}\\\\\\frac{\\left(1 - \\eta\\right) \\left(1 - \\xi\\right)}{4}\\\\\\frac{\\left(1 - \\eta\\right) \\left(\\xi + 1\\right)}{4}\\end{matrix}\\right]$"
      ],
      "text/plain": [
       "Matrix([\n",
       "[(eta + 1)*(xi + 1)/4],\n",
       "[(1 - xi)*(eta + 1)/4],\n",
       "[(1 - eta)*(1 - xi)/4],\n",
       "[(1 - eta)*(xi + 1)/4]])"
      ]
     },
     "execution_count": 19,
     "metadata": {},
     "output_type": "execute_result"
    }
   ],
   "source": [
    "import sympy as sp\n",
    "import numpy as np\n",
    "\n",
    "xi = sp.Symbol(\"xi\")\n",
    "eta = sp.Symbol(\"eta\")\n",
    "x_ = sp.symbols(\"x1,x2,x3,x4\")\n",
    "y_ = sp.symbols(\"y1,y2,y3,y4\")\n",
    "şekil = sp.Matrix([(1+xi)*(1+eta)/4,\n",
    "                   (1-xi)*(1+eta)/4,\n",
    "                   (1-xi)*(1-eta)/4,\n",
    "                   (1+xi)*(1-eta)/4])\n",
    "şekil"
   ]
  },
  {
   "cell_type": "markdown",
   "metadata": {},
   "source": [
    "Problem 2 boyutlu vektörel değişken içerdiğinden, 2 boyutlu dikdörtgen eleman için şekil fonksiyonlarının $\\xi$ ve $\\eta$'e göre türevlerini alıp $\\mathbf{N}$'yi tanımlayalım:"
   ]
  },
  {
   "cell_type": "code",
   "execution_count": 20,
   "metadata": {},
   "outputs": [
    {
     "data": {
      "text/latex": [
       "$\\displaystyle \\left[\\begin{matrix}\\frac{\\eta}{4} + \\frac{1}{4} & 0 & - \\frac{\\eta}{4} - \\frac{1}{4} & 0 & \\frac{\\eta}{4} - \\frac{1}{4} & 0 & \\frac{1}{4} - \\frac{\\eta}{4} & 0\\\\\\frac{\\xi}{4} + \\frac{1}{4} & 0 & \\frac{1}{4} - \\frac{\\xi}{4} & 0 & \\frac{\\xi}{4} - \\frac{1}{4} & 0 & - \\frac{\\xi}{4} - \\frac{1}{4} & 0\\\\0 & \\frac{\\eta}{4} + \\frac{1}{4} & 0 & - \\frac{\\eta}{4} - \\frac{1}{4} & 0 & \\frac{\\eta}{4} - \\frac{1}{4} & 0 & \\frac{1}{4} - \\frac{\\eta}{4}\\\\0 & \\frac{\\xi}{4} + \\frac{1}{4} & 0 & \\frac{1}{4} - \\frac{\\xi}{4} & 0 & \\frac{\\xi}{4} - \\frac{1}{4} & 0 & - \\frac{\\xi}{4} - \\frac{1}{4}\\end{matrix}\\right]$"
      ],
      "text/plain": [
       "Matrix([\n",
       "[eta/4 + 1/4,           0, -eta/4 - 1/4,            0, eta/4 - 1/4,           0, 1/4 - eta/4,           0],\n",
       "[ xi/4 + 1/4,           0,   1/4 - xi/4,            0,  xi/4 - 1/4,           0, -xi/4 - 1/4,           0],\n",
       "[          0, eta/4 + 1/4,            0, -eta/4 - 1/4,           0, eta/4 - 1/4,           0, 1/4 - eta/4],\n",
       "[          0,  xi/4 + 1/4,            0,   1/4 - xi/4,           0,  xi/4 - 1/4,           0, -xi/4 - 1/4]])"
      ]
     },
     "execution_count": 20,
     "metadata": {},
     "output_type": "execute_result"
    }
   ],
   "source": [
    "gradyen_xi = sp.diff(şekil, xi)\n",
    "gradyen_eta = sp.diff(şekil, eta)\n",
    "\n",
    "N = sp.Matrix([[gradyen_xi[0],0,gradyen_xi[1],0,gradyen_xi[2],0, gradyen_xi[3],0],[gradyen_eta[0],0,gradyen_eta[1],0,gradyen_eta[2],0, gradyen_eta[3],0],[0,gradyen_xi[0],0,gradyen_xi[1],0, gradyen_xi[2],0,gradyen_xi[3]],[0,gradyen_eta[0],0,gradyen_eta[1],0, gradyen_eta[2],0,gradyen_eta[3]]])\n",
    "\n",
    "N"
   ]
  },
  {
   "cell_type": "markdown",
   "metadata": {},
   "source": [
    "İlk olarak örnek olması için 1. elemana özel jakopyen matrisini oluşturup $\\mathbf{J}$ matrisini hesaplayalım:"
   ]
  },
  {
   "cell_type": "code",
   "execution_count": 21,
   "metadata": {},
   "outputs": [
    {
     "data": {
      "text/latex": [
       "$\\displaystyle 0.0012 \\xi + 0.0052$"
      ],
      "text/plain": [
       "0.0012*xi + 0.0052"
      ]
     },
     "execution_count": 21,
     "metadata": {},
     "output_type": "execute_result"
    }
   ],
   "source": [
    "c_şekil = sp.Matrix([0, 0])\n",
    "for i in range(4):\n",
    "    c_şekil[0] += x_[i] * şekil[i]\n",
    "    c_şekil[1] += y_[i] * şekil[i]\n",
    "j = c_şekil.jacobian([xi, eta]).T\n",
    "\n",
    "x_koord = [0,     0.16,    0.16,  0.0] \n",
    "y_koord = [-0.32,-0.20,   -0.10, -0.16]\n",
    "    \n",
    "for nokta in range(4):\n",
    "    j = j.subs(x_[nokta],x_koord[nokta]) \n",
    "    j = j.subs(y_[nokta],y_koord[nokta])\n",
    "\n",
    "J= sp.Matrix.zeros(4,4)\n",
    "J[:2,:2] = j.inv()\n",
    "J[2:,2:] = j.inv()\n",
    "\n",
    "det = j.det()\n",
    "det"
   ]
  },
  {
   "cell_type": "markdown",
   "metadata": {},
   "source": [
    "Son olarak $\\mathbf{C}$ ve $\\mathbf{H}$ matrislerini tanımlayalım."
   ]
  },
  {
   "cell_type": "code",
   "execution_count": 22,
   "metadata": {},
   "outputs": [
    {
     "data": {
      "text/latex": [
       "$\\displaystyle \\left[\\begin{matrix}10989010.989011 & 3296703.2967033 & 0\\\\3296703.2967033 & 10989010.989011 & 0\\\\0 & 0 & 3846153.84615385\\end{matrix}\\right]$"
      ],
      "text/plain": [
       "Matrix([\n",
       "[10989010.989011, 3296703.2967033,                0],\n",
       "[3296703.2967033, 10989010.989011,                0],\n",
       "[              0,               0, 3846153.84615385]])"
      ]
     },
     "execution_count": 22,
     "metadata": {},
     "output_type": "execute_result"
    }
   ],
   "source": [
    "np.set_printoptions(linewidth=300, precision=3) # Tam matris gösterimleri için\n",
    "\n",
    "E=1E7\n",
    "v=0.3\n",
    "H=sp.Matrix([[1,0,0,0],[0,0,0,1],[0,1,1,0]])\n",
    "C=sp.Matrix([[1,v,0],[v,1,0],[0,0,(1-v)/2]])*E/(1-v**2)\n",
    "C"
   ]
  },
  {
   "cell_type": "markdown",
   "metadata": {},
   "source": [
    "Farkedileceği üzere $$\\int_{-1}^{1}\\int_{-1}^{1} \\mathbf{N}^{T}\\mathbf{J}^{T}\\mathbf{H}^{T}\\mathbf{C}\\mathbf{H}\\mathbf{J}\\mathbf{N}d\\eta d\\xi det(\\mathbf{J}).\\tag{1} $$\n",
    "\n",
    "denklemindeki \n",
    "\n",
    "$$\\mathbf{H}^{T}\\mathbf{C}\\mathbf{H}$$ \n",
    "\n",
    "çarpımı her bir eleman için aynıdır, farklı olacak matrisler $\\mathbf{J}$ ve $\\mathbf{N}$ içeren matrislerdir. Bu yüzden bu çarpımı bir kere yapıp diğer elemanların sertlik matrisleri için kullanabiliriz. Bu matrisi $\\mathbf{B}$ olarak tanımlayıp işlemi yapalım: "
   ]
  },
  {
   "cell_type": "code",
   "execution_count": 23,
   "metadata": {},
   "outputs": [
    {
     "data": {
      "text/latex": [
       "$\\displaystyle \\left[\\begin{matrix}10989010.989011 & 0 & 0 & 3296703.2967033\\\\0 & 3846153.84615385 & 3846153.84615385 & 0\\\\0 & 3846153.84615385 & 3846153.84615385 & 0\\\\3296703.2967033 & 0 & 0 & 10989010.989011\\end{matrix}\\right]$"
      ],
      "text/plain": [
       "Matrix([\n",
       "[10989010.989011,                0,                0, 3296703.2967033],\n",
       "[              0, 3846153.84615385, 3846153.84615385,               0],\n",
       "[              0, 3846153.84615385, 3846153.84615385,               0],\n",
       "[3296703.2967033,                0,                0, 10989010.989011]])"
      ]
     },
     "execution_count": 23,
     "metadata": {},
     "output_type": "execute_result"
    }
   ],
   "source": [
    "B = H.T*C*H\n",
    "B"
   ]
  },
  {
   "cell_type": "markdown",
   "metadata": {},
   "source": [
    "Artık yerel matrisi bulabilmek için gereken tüm değişkenler mevcuttur. Ders 7'dekinin aksine eleman sertlik matrisi, dikdörtgen referans eleman için 8x8'lik bir matris olacaktır. \n",
    "\n",
    "Şimdi son adım olarak integrasyon işlemini yapıp 1. eleman için eleman sertlik matrisini elde edelim:"
   ]
  },
  {
   "cell_type": "code",
   "execution_count": 24,
   "metadata": {},
   "outputs": [
    {
     "data": {
      "text/plain": [
       "array([[ 2302296.384,   297511.034, -1430926.962,  -970523.149,    57300.589,  -952553.774,  -928670.011,  1625565.889],\n",
       "       [  297511.034,  4377491.538,  -695797.875,  1498760.792,  -952553.774, -1979530.023,  1350840.614, -3896722.307],\n",
       "       [-1430926.962,  -695797.875,  9899373.25 , -3666943.181, -2344428.195,  1743866.258, -6124018.093,  2618874.798],\n",
       "       [ -970523.149,  1498760.792, -3666943.181,  7979729.985,  2018591.532, -5335499.216,  2618874.798, -4142991.561],\n",
       "       [   57300.589,  -952553.774, -2344428.195,  2018591.532,  3718054.568,   -95514.609, -1430926.962,  -970523.149],\n",
       "       [ -952553.774, -1979530.023,  1743866.258, -5335499.216,   -95514.609,  5816268.447,  -695797.875,  1498760.792],\n",
       "       [ -928670.011,  1350840.614, -6124018.093,  2618874.798, -1430926.962,  -695797.875,  8483615.066, -3273917.537],\n",
       "       [ 1625565.889, -3896722.307,  2618874.798, -4142991.561,  -970523.149,  1498760.792, -3273917.537,  6540953.076]])"
      ]
     },
     "execution_count": 24,
     "metadata": {},
     "output_type": "execute_result"
    }
   ],
   "source": [
    "from scipy import integrate\n",
    "from sympy.utilities import lambdify\n",
    "\n",
    "K_e = np.zeros((8,8))\n",
    "K_ele_sys=N.T*J.T*B*J*N*det\n",
    "\n",
    "for i in range(8):\n",
    "    for j in range(8):\n",
    "        # scipy'da bulunan integrasyon fonksiyonunu kullanmak için\n",
    "        # hücre değerlerini geçici olarak 'lambda' formatına çevirmemiz gerekiyor.\n",
    "        geçici_fonksiyon = lambdify( (xi,eta), K_ele_sys[i,j], 'math' )\n",
    "        K_e[i,j] += integrate.nquad(geçici_fonksiyon, [[-1, 1],[-1, 1]])[0]\n",
    "K_e"
   ]
  },
  {
   "cell_type": "markdown",
   "metadata": {},
   "source": [
    "## Global Sertlik Matrisinin Oluşturulması\n",
    "\n",
    "1. elemana ait yerel sertlik matrisini tamamlamakla beraber artık bu işlemi global ölçeğe taşıyabiliriz. Öncelikle global sistemdeki noktaları ve bu noktaların global indislerini taşıyan geometri (mesh) değişkenini tanımlayalım:"
   ]
  },
  {
   "cell_type": "code",
   "execution_count": 25,
   "metadata": {},
   "outputs": [],
   "source": [
    "noktalar = np.array([[0, -0.32],\n",
    "                     [0, -0.16],\n",
    "                     [0,0],\n",
    "                     [0.16, -0.2],\n",
    "                     [0.16,-0.1],\n",
    "                     [0.13, 0],\n",
    "                     [0.32,-0.08],\n",
    "                     [0.29,-0.04],\n",
    "                     [0.26,0]])\n",
    "\n",
    "mesh = {1:[0,3,4,1],\n",
    "        2:[4,5,2,1],\n",
    "        3:[4,7,8,5],\n",
    "        4:[3,6,7,4]}"
   ]
  },
  {
   "cell_type": "markdown",
   "metadata": {},
   "source": [
    "Öncelikle herhangi bir eleman için $\\mathbf{J}$ fonksiyonu tanımlayalım:"
   ]
  },
  {
   "cell_type": "code",
   "execution_count": 26,
   "metadata": {},
   "outputs": [],
   "source": [
    "def lokal_jakobyen(mesh, noktalar, eleman_no):\n",
    "\n",
    "    eleman_noktalar = mesh[eleman_no] # Elemana ait noktalarin global indislerini içeren dizi\n",
    "    c_şekil = sp.Matrix([0, 0])\n",
    "    \n",
    "    for i in range(4):\n",
    "        c_şekil[0] += x_[i] * şekil[i]\n",
    "        c_şekil[1] += y_[i] * şekil[i]\n",
    "        \n",
    "    j = c_şekil.jacobian([xi, eta]).T\n",
    "    \n",
    "    for nokta, global_nokta in enumerate(eleman_noktalar):\n",
    "        j = j.subs(x_[nokta],noktalar[global_nokta][0]) \n",
    "        j = j.subs(y_[nokta],noktalar[global_nokta][1])\n",
    "\n",
    "    J = sp.Matrix.zeros(4,4)\n",
    "    J[:2,:2] = j.inv()\n",
    "    J[2:,2:] = j.inv()\n",
    "    \n",
    "    return J, j"
   ]
  },
  {
   "cell_type": "markdown",
   "metadata": {},
   "source": [
    "Ardından lokal jakobyeni hesaplayan yukarıdaki fonksiyonu kullanarak yerel sertlik matrisini hesaplayan fonksiyonu yazalım:"
   ]
  },
  {
   "cell_type": "code",
   "execution_count": null,
   "metadata": {},
   "outputs": [],
   "source": [
    "def K_e_eleman(mesh, noktalar,eleman_no,B,N):\n",
    "\n",
    "    J_e,j_e = lokal_jakobyen(mesh, noktalar,eleman_no)\n",
    "\n",
    "    K_ele_sym=N.T*J_e.T*B*J_e*N*j_e.det()\n",
    "\n",
    "    koordinat_sayısı = 8\n",
    "    K_e = np.zeros((koordinat_sayısı,koordinat_sayısı))\n",
    "\n",
    "    xi = sp.Symbol(\"xi\")\n",
    "    eta = sp.Symbol(\"eta\")\n",
    "    \n",
    "    for i in range(koordinat_sayısı):\n",
    "        for j in range(koordinat_sayısı):\n",
    "            geçici_fonksiyon = lambdify( (xi,eta), K_ele_sym[i,j], 'math' )\n",
    "            K_e[i,j] += integrate.nquad(geçici_fonksiyon, [[-1, 1],[-1, 1]])[0]\n",
    "            \n",
    "    return K_e"
   ]
  },
  {
   "cell_type": "markdown",
   "metadata": {},
   "source": [
    "Şimdi deneme için 1. elemanın matrisini hesaplayalım ve yukarıda bulduğumuz matris ile karşılaştırarak test yapalım:"
   ]
  },
  {
   "cell_type": "code",
   "execution_count": 27,
   "metadata": {},
   "outputs": [
    {
     "data": {
      "text/plain": [
       "array([[ 2302296.384,   297511.034, -1430926.962,  -970523.149,    57300.589,  -952553.774,  -928670.011,  1625565.889],\n",
       "       [  297511.034,  4377491.538,  -695797.875,  1498760.792,  -952553.774, -1979530.023,  1350840.614, -3896722.307],\n",
       "       [-1430926.962,  -695797.875,  9899373.25 , -3666943.181, -2344428.195,  1743866.258, -6124018.093,  2618874.798],\n",
       "       [ -970523.149,  1498760.792, -3666943.181,  7979729.985,  2018591.532, -5335499.216,  2618874.798, -4142991.561],\n",
       "       [   57300.589,  -952553.774, -2344428.195,  2018591.532,  3718054.568,   -95514.609, -1430926.962,  -970523.149],\n",
       "       [ -952553.774, -1979530.023,  1743866.258, -5335499.216,   -95514.609,  5816268.447,  -695797.875,  1498760.792],\n",
       "       [ -928670.011,  1350840.614, -6124018.093,  2618874.798, -1430926.962,  -695797.875,  8483615.066, -3273917.537],\n",
       "       [ 1625565.889, -3896722.307,  2618874.798, -4142991.561,  -970523.149,  1498760.792, -3273917.537,  6540953.076]])"
      ]
     },
     "execution_count": 27,
     "metadata": {},
     "output_type": "execute_result"
    }
   ],
   "source": [
    "K_1 = K_e_eleman(mesh, noktalar, 1, B, N) \n",
    "K_1"
   ]
  },
  {
   "cell_type": "markdown",
   "metadata": {},
   "source": [
    "Görüldüğü üzere bulunan her iki matris birebir aynıdır. Artık bulunan yerel matrisleri global matrisin içine ekleyelebiliriz. Bu işlemi yaparken bölüm 7'den farklı olarak, global matrisin boyutu $x$ ve $y$ değişkenlerinin katkılarını içerecek olduğundan koordinat sayısının iki katı olan kare matris olacaktır. Şimdi bu matrisi oluşturup 2şerli bloklar halinde yerel sertlik matrisini global sertlik matrisine taşıyalım. Bu işlemi yaparken yerel matrislerin global matristeki yerlerini bulurken yukarıda tanımladığımız $\\textbf{mesh}$ değişkenini kullanacağız:   "
   ]
  },
  {
   "cell_type": "code",
   "execution_count": 30,
   "metadata": {},
   "outputs": [
    {
     "data": {
      "text/plain": [
       "array([[  2302296.384,    297511.034,   -928670.011,   1625565.889,         0.   ,         0.   ,  -1430926.962,   -970523.149,     57300.589,   -952553.774,         0.   ,         0.   ,         0.   ,         0.   ,         0.   ,         0.   ,         0.   ,         0.   ],\n",
       "       [   297511.034,   4377491.538,   1350840.614,  -3896722.307,         0.   ,         0.   ,   -695797.875,   1498760.792,   -952553.774,  -1979530.023,         0.   ,         0.   ,         0.   ,         0.   ,         0.   ,         0.   ,         0.   ,         0.   ],\n",
       "       [  -928670.011,   1350840.614,  11737735.006,  -1823733.309,    480960.711,    761615.881,  -6124018.093,   2618874.798,  -3560595.79 ,  -1367740.991,  -1605411.823,  -1539856.993,         0.   ,         0.   ,         0.   ,         0.   ,         0.   ,         0.   ],\n",
       "       [  1625565.889,  -3896722.307,  -1823733.309,  11292947.66 ,    486890.607,  -2998546.769,   2618874.798,  -4142991.561,  -1367740.991,   2686778.249,  -1539856.993,  -2941465.272,         0.   ,         0.   ,         0.   ,         0.   ,         0.   ,         0.   ],\n",
       "       [        0.   ,         0.   ,    480960.711,    486890.607,   5526999.02 ,  -1981120.376,         0.   ,         0.   ,  -3269537.137,   1858337.667,  -2738422.594,   -364107.898,         0.   ,         0.   ,         0.   ,         0.   ,         0.   ,         0.   ],\n",
       "       [        0.   ,         0.   ,    761615.881,  -2998546.769,  -1981120.376,   4824214.756,         0.   ,         0.   ,   1858337.667,  -2345182.313,   -638833.172,    519514.326,         0.   ,         0.   ,         0.   ,         0.   ,         0.   ,         0.   ],\n",
       "       [ -1430926.962,   -695797.875,  -6124018.093,   2618874.798,         0.   ,         0.   ,  12758287.121,  -4401570.962,  -5737853.034,   4410288.991,         0.   ,         0.   ,   1346789.467,  -1885298.798,   -812278.499,    -46496.153,         0.   ,         0.   ],\n",
       "       [  -970523.149,   1498760.792,   2618874.798,  -4142991.561,         0.   ,         0.   ,  -4401570.962,  14927387.592,   4410288.991, -11712843.678,         0.   ,         0.   ,  -1610573.524,   3753408.243,    -46496.153,  -4323721.388,         0.   ,         0.   ],\n",
       "       [    57300.589,   -952553.774,  -3560595.79 ,  -1367740.991,  -3269537.137,   1858337.667,  -5737853.034,   4410288.991,  21649525.559,  -4699228.167,  -1382676.561,   1789564.243,  -5876104.262,   2599092.475,    101638.246,  -2410165.333,  -1981697.61 ,  -1227595.11 ],\n",
       "       [  -952553.774,  -1979530.023,  -1367740.991,   2686778.249,   1858337.667,  -2345182.313,   4410288.991, -11712843.678,  -4699228.167,  26597954.608,   1789564.243,  -8829957.373,   2599092.475,  -4059029.045,  -2410165.333,   5276517.148,  -1227595.11 ,  -5634707.573],\n",
       "       [        0.   ,         0.   ,  -1605411.823,  -1539856.993,  -2738422.594,   -638833.172,         0.   ,         0.   ,  -1382676.561,   1789564.243,   9146267.426,   -476395.849,         0.   ,         0.   ,  -2621661.304,   1685517.365,   -798095.144,   -819995.593],\n",
       "       [        0.   ,         0.   ,  -1539856.993,  -2941465.272,   -364107.898,    519514.326,         0.   ,         0.   ,   1789564.243,  -8829957.373,   -476395.849,  11203823.443,         0.   ,         0.   ,   1685517.365,  -1873531.192,  -1094720.868,   1921616.069],\n",
       "       [        0.   ,         0.   ,         0.   ,         0.   ,         0.   ,         0.   ,   1346789.467,  -1610573.524,  -5876104.262,   2599092.475,         0.   ,         0.   ,   9676998.525,  -4049751.211,  -5147683.73 ,   3061232.26 ,         0.   ,         0.   ],\n",
       "       [        0.   ,         0.   ,         0.   ,         0.   ,         0.   ,         0.   ,  -1885298.798,   3753408.243,   2599092.475,  -4059029.045,         0.   ,         0.   ,  -4049751.211,   8932053.451,   3335957.534,  -8626432.65 ,         0.   ,         0.   ],\n",
       "       [        0.   ,         0.   ,         0.   ,         0.   ,         0.   ,         0.   ,   -812278.499,    -46496.153,    101638.246,  -2410165.333,  -2621661.304,   1685517.365,  -5147683.73 ,   3335957.534,  11218048.953,  -3710724.265,  -2738063.667,   1145910.853],\n",
       "       [        0.   ,         0.   ,         0.   ,         0.   ,         0.   ,         0.   ,    -46496.153,  -4323721.388,  -2410165.333,   5276517.148,   1685517.365,  -1873531.192,   3061232.26 ,  -8626432.65 ,  -3710724.265,  17438421.128,   1420636.128,  -7891253.046],\n",
       "       [        0.   ,         0.   ,         0.   ,         0.   ,         0.   ,         0.   ,         0.   ,         0.   ,  -1981697.61 ,  -1227595.11 ,   -798095.144,  -1094720.868,         0.   ,         0.   ,  -2738063.667,   1420636.128,   5517856.422,    901679.85 ],\n",
       "       [        0.   ,         0.   ,         0.   ,         0.   ,         0.   ,         0.   ,         0.   ,         0.   ,  -1227595.11 ,  -5634707.573,   -819995.593,   1921616.069,         0.   ,         0.   ,   1145910.853,  -7891253.046,    901679.85 ,  11604344.549]])"
      ]
     },
     "execution_count": 30,
     "metadata": {},
     "output_type": "execute_result"
    }
   ],
   "source": [
    "K_global = np.zeros((noktalar.size, noktalar.size))\n",
    "for el in range(1,5):\n",
    "    K_e = K_e_eleman(mesh, noktalar, el, B, N)\n",
    "    eleman_noktalar = mesh[el]\n",
    "    for lokal_x, global_x in enumerate(eleman_noktalar):\n",
    "        for lokal_y, global_y in enumerate(eleman_noktalar):\n",
    "            K_global[2*global_x:2*global_x+2, 2*global_y:2*global_y+2] += K_e[2*lokal_x:2*lokal_x+2, 2*lokal_y:2*lokal_y+2]\n",
    "            \n",
    "\n",
    "K_global"
   ]
  },
  {
   "cell_type": "markdown",
   "metadata": {},
   "source": [
    "## Global Kuvvet Matrisinin Oluşturulması\n"
   ]
  },
  {
   "cell_type": "code",
   "execution_count": null,
   "metadata": {},
   "outputs": [],
   "source": [
    "# simdi f'i olusturalim\n",
    "h = 0.005 # kalinlik\n",
    "\n",
    "# f_global = np.array([0,0,0,0,0,-325,0,0,0,0,0,-1950,0,0,-2000,0,0,-1625])\n",
    "f_global = np.array([0,0,0,0,0,0,0,0,0,0,0,-1950*2,0,0,-10/h,0,0,-3900*2])"
   ]
  },
  {
   "cell_type": "code",
   "execution_count": null,
   "metadata": {},
   "outputs": [],
   "source": [
    "# simdi B.C. leri uygulayalim - galiba gerek yok - olmadigini anlat\n",
    "alpha = 1e-16\n",
    "beta  = 1\n",
    "gamma = 0.0 # yatay hiz degerleri\n",
    "\n",
    "sabit_koordinatlar = [0,2,4,5]\n",
    "\n",
    "def dirichlet_uygula(noktalar, K_global, f_global, alpha, beta, gamma):\n",
    "\n",
    "    for nokta in noktalar:\n",
    "        K_global[nokta,nokta]+= 1*beta/alpha  \n",
    "        f_global[nokta] += 1*gamma/alpha\n",
    "    \n",
    "    return K_global, f_global\n",
    "\n",
    "K_global, f_global = dirichlet_uygula(sabit_koordinatlar, K_global, f_global, alpha, beta, gamma)"
   ]
  },
  {
   "cell_type": "code",
   "execution_count": null,
   "metadata": {},
   "outputs": [
    {
     "data": {
      "text/plain": [
       "array([-4.929e-13, -2.450e-03, -6.486e-13, -1.931e-03,  9.415e-13, -1.170e-12, -9.322e-04, -3.789e-03, -3.415e-04, -3.994e-03,  1.301e-03, -3.831e-03, -1.674e-04, -7.806e-03,  7.513e-04, -7.381e-03,  1.860e-03, -7.160e-03])"
      ]
     },
     "execution_count": 13,
     "metadata": {},
     "output_type": "execute_result"
    }
   ],
   "source": [
    "# sistem cozumu\n",
    "\n",
    "from scipy.linalg import solve\n",
    "\n",
    "u = solve(K_global,f_global)\n",
    "u"
   ]
  },
  {
   "cell_type": "code",
   "execution_count": null,
   "metadata": {},
   "outputs": [
    {
     "data": {
      "image/png": "[encoded data removed]",
      "text/plain": [
       "<Figure size 1200x800 with 1 Axes>"
      ]
     },
     "metadata": {},
     "output_type": "display_data"
    }
   ],
   "source": [
    "# gorsellestirme\n",
    "degisim = u.reshape(-1,2)\n",
    "noktalar_son = noktalar+degisim\n",
    "\n",
    "import matplotlib.pyplot as plt\n",
    "fig, ax = plt.subplots()\n",
    "fig.set_size_inches(12,8)\n",
    "\n",
    "ax.set_xlabel(\"x\")\n",
    "ax.set_ylabel(\"y\")\n",
    "\n",
    "ax.scatter(noktalar[:,0],noktalar[:,1], color='#1f77b4', label='ilk')\n",
    "ax.scatter(noktalar_son[:,0],noktalar_son[:,1],color='red', label='son')\n",
    "ax.legend()\n",
    "\n",
    "# Eleman cizgileri\n",
    "for i in [1,3,5,7]:\n",
    "    ax.plot([noktalar[4][0],noktalar[i][0]],[noktalar[4][1],noktalar[i][1]],color='#1f77b4', linestyle='dashed')\n",
    "    ax.plot([noktalar_son[4][0],noktalar_son[i][0]],[noktalar_son[4][1],noktalar_son[i][1]],color='red')\n",
    "for i in [1,5]:\n",
    "    ax.plot([noktalar[2][0],noktalar[i][0]],[noktalar[2][1],noktalar[i][1]],color='#1f77b4', linestyle='dashed')\n",
    "    ax.plot([noktalar_son[2][0],noktalar_son[i][0]],[noktalar_son[2][1],noktalar_son[i][1]],color='red')\n",
    "for i in [5,7]:\n",
    "    ax.plot([noktalar[8][0],noktalar[i][0]],[noktalar[8][1],noktalar[i][1]],color='#1f77b4', linestyle='dashed')\n",
    "    ax.plot([noktalar_son[8][0],noktalar_son[i][0]],[noktalar_son[8][1],noktalar_son[i][1]],color='red')\n",
    "for i in [1,3]:\n",
    "    ax.plot([noktalar[0][0],noktalar[i][0]],[noktalar[0][1],noktalar[i][1]],color='#1f77b4', linestyle='dashed')\n",
    "    ax.plot([noktalar_son[0][0],noktalar_son[i][0]],[noktalar_son[0][1],noktalar_son[i][1]],color='red')\n",
    "for i in [3,7]:\n",
    "    ax.plot([noktalar[6][0],noktalar[i][0]],[noktalar[6][1],noktalar[i][1]],color='#1f77b4', linestyle='dashed')\n",
    "    ax.plot([noktalar_son[6][0],noktalar_son[i][0]],[noktalar_son[6][1],noktalar_son[i][1]],color='red')\n"
   ]
  }
 ],
 "metadata": {
  "kernelspec": {
   "display_name": "Python 3 (ipykernel)",
   "language": "python",
   "name": "python3"
  },
  "language_info": {
   "codemirror_mode": {
    "name": "ipython",
    "version": 3
   },
   "file_extension": ".py",
   "mimetype": "text/x-python",
   "name": "python",
   "nbconvert_exporter": "python",
   "pygments_lexer": "ipython3",
   "version": "3.10.12"
  }
 },
 "nbformat": 4,
 "nbformat_minor": 2
}
