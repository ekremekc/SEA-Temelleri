{
 "cells": [
  {
   "cell_type": "markdown",
   "metadata": {},
   "source": [
    "# Ders 9 - Son Adım ve İleri Sonlu Elemanlar Metodu\n",
    "\n",
    "Önceki derslerde 1 boyutlu basit bir çekme probleminden başlayarak 2 boyutlu vektörel problemlere kadar adım adım sonlu elemanlar metodunu uygulamalı olarak ele aldık. Günümüzde, gerçek hayatta yer alan problemleri modelleyip çözümlemek için gerekli altyapı oluşturmaya gayret ettik. Son adım olarak bu derste, temelini öğrendiğimiz sonlu elemanlar metodunu nasıl ileri problemleri çözmek için kullanabileceğimizi tartışacağız.\n",
    "\n"
   ]
  },
  {
   "cell_type": "markdown",
   "metadata": {},
   "source": [
    "## Açık Kaynaklı Sonlu Eleman Kodları\n",
    "\n",
    "Son yıllarda kullanımı artmakta olan açık kaynak kodlar, özel durumlara sahip ileri problemlere çözüm getirebilmektedir. Fakat bu problemleri çözmek ileri bilgisayar kullanma bilgisi, yüksek başarımlı hesaplama (HPC) bilgisi, paralel kod geliştirme ve Linux tabanlı işletim sistemlerine aşinalık gerektirmektedir. Bu bölümde bazı açık kaynaklı kodlardan kısaca bahsedeceğiz.\n",
    "\n",
    "### FEniCSx\n",
    "\n",
    "<img src=\"Resimler/Ders9/fenicsx.png\" align=\"center\" width= \"300\"/>\n",
    "\n",
    "[FEniCS projesi](https://fenicsproject.org/), kısmi diferansiyel denklemlere ait zayıf formları hızlıca tanımlayıp paralel kütüphaneleri kullanarak hızlıca çözümlemeyi hedefleyen bir açık kaynaklı 3 boyutlu sonlu eleman platformudur. Akışkanlar dinamiğinden katı mekaniğine, elektromanyetikten ısı transferine bir çok ileri mühendislik ve bilimsel problem hızlıca çözümlenebilmektedir. FEniCSx projesinin çekirdeği hızlı olması için C++ dili ile yazılmıştir. Fakat bu kodlar python komutları kullanılarak da çağırılabilmektedir. Geliştirilmesi halen aktif olarak devam etmekte olan bu dil, hesaplamalı bilimler alanındaki araştırmalarda da çokça kullanılmaktadır. MPI kütüphanesine de uyumlu olması sebebiyle, bilgisayar gücü olması durumunda problemler çok çekirdek kullanımı ile hızla çözülebilmektedir. Kullanıma dair soru cevaplar, kodun [discourse sayfasında](https://fenicsproject.discourse.group/) tartışılmaktadır.\n",
    "\n",
    "### Calculix\n",
    "\n",
    "<img src=\"Resimler/Ders9/calculix.png\" align=\"center\" width= \"300\"/>\n",
    "\n",
    "[Calculix](http://www.dhondt.de/) projesi 3 boyutlu lineer veya nonlineer olan statik, dinamik ve termal problemleri çözmek için kullanılan açık kaynaklı bir sonlu eleman kodudur. Kod, Linux ve Windows'ta çalışabilmektedir. Kullanıma dair soru cevaplar, kodun [discourse sayfasında](https://calculix.discourse.group/) tartışılmaktadır.\n",
    "\n",
    "### FreeFEM++\n",
    "\n",
    "<img src=\"Resimler/Ders9/freefem.png\" align=\"center\" width= \"250\"/>\n",
    "\n",
    "[FreeFEM++](https://freefem.org/) projesi 3 boyutlu katı ve akışkanlar mekaniğine ek olarak termal problemleri de çözmek için kullanılan açık kaynaklı bir sonlu eleman kodudur. c++ dili ile yazılmıştır ve kendine has program yazma dili vardır. Yine diğer açık kaynaklı paketlerde olduğu gibi FreeFEM++'de paralel işlem yapmaya uygun şekilde tasarlanmıştır. Hemen hemen bütün işletim sistemlerinde çalışabilen kurulumları vardır. Kullanıma dair soru cevaplar, kodun [forum sayfasında](https://community.freefem.org/) tartışılmaktadır.\n",
    "\n",
    "### Elmer FEM\n",
    "\n",
    "<img src=\"Resimler/Ders9/elmer.jpg\" align=\"center\" width= \"600\"/>\n",
    "\n",
    "[Elmer FEM projesi](http://www.elmerfem.org/blog/) bir çok fizik içeren problemlerin çözümü için geliştirilmiştir. Isı transferi, akışkanlar mekaniği, katı mekaniği, elektromanyetik ve quantum mekaniği problemleri Elmer FEM'in ana kullanım alanlarıdır. Fortran dili kullanılarak yazılmıştır ve HPC kullanımına uygundur. Kullanıcılarına ayrıca grafik arayüz sunmaktadır. Kullanıma dair soru cevaplar, kodun [forum sayfasında](http://www.elmerfem.org/forum/) tartışılmaktadır ve oldukça aktiftir.\n",
    "\n"
   ]
  },
  {
   "cell_type": "markdown",
   "metadata": {},
   "source": [
    "## Ticari Sonlu Eleman Kodları\n",
    "\n",
    "Bu kısım sektördeki bu alanda faaliyet gösterenler tarafından daha sonra yazılacaktır.\n"
   ]
  },
  {
   "cell_type": "markdown",
   "metadata": {},
   "source": [
    "## Sonraki Adımlar \n",
    " \n",
    "Ülkemizde halihazırda bir yüksek başarımlı hesaplama altyapısı [TRUBA-TUBITAK](https://www.truba.gov.tr/) bünyesinde mevcuttur."
   ]
  },
  {
   "cell_type": "markdown",
   "metadata": {},
   "source": [
    "## Sonuç\n",
    "\n",
    "Bu bölümle sonlu elemanlar eğitimi ile ilgili olarak bir kapanış yapmış oluyoruz. Bu bağlamda uzun vadede önü çok açık olan açık kaynak kod geliştirme kabiliyetini elde etmek amacıyla hazırlanan bu eğitimin öğrencilere faydalı olacağını umuyoruz. Açık kaynaklı kodlara hakim olunması ile birlikte sonlu elemanlar metodunun ileri uygulamalarını akademik veya endüstriyel olarak geliştirebilirsiniz. \n",
    "\n",
    "İlginiz ve vaktiniz için teşekkür ederiz. Eğitime yönelik geri bildirimler, görüşler ve öneriler için <a href=\"mailto:seatemelleri@gmail.com\">seatemelleri@gmail.com</a> e-mail adresi üzerinden yazarlara ulaşabilirsiniz.  "
   ]
  }
 ],
 "metadata": {
  "kernelspec": {
   "display_name": "Python 3 (ipykernel)",
   "language": "python",
   "name": "python3"
  },
  "language_info": {
   "codemirror_mode": {
    "name": "ipython",
    "version": 3
   },
   "file_extension": ".py",
   "mimetype": "text/x-python",
   "name": "python",
   "nbconvert_exporter": "python",
   "pygments_lexer": "ipython3",
   "version": "3.10.6"
  }
 },
 "nbformat": 4,
 "nbformat_minor": 4
}
