{
 "cells": [
  {
   "attachments": {},
   "cell_type": "markdown",
   "metadata": {},
   "source": [
    "# 2 Boyutlu Bir Elastisite Problemi: Dış Yükler Altında Plaka\n",
    "\n",
    "7\\. bölümde 2 boyutlu ısı transferi problemini ele almıştık. Bu bölümde de 2 boyutlu bir elastisite problemini ele alacağız. Daha özel adı ile bir düzlem gerilme (plain stress) problemini inceleyeceğiz. Daha önceki bölümlerde olduğu gibi problemimizi ifade eden denklemin güçlü formunu türeterek başlayacağız."
   ]
  },
  {
   "attachments": {},
   "cell_type": "markdown",
   "metadata": {},
   "source": [
    "## Yer Değiştirme, Birim Şekil Değiştirme ve Gerilme Tanımları\n",
    "\n",
    "Denklemimizi türetmeden önce denklemde kullanacağımız gerilme, yer değiştirme ve  birim şekil değiştirmelerin tanımlarından kısaca bahsetmekte fayda olacaktır. Bunun için $x-y-z$ koordinat sistemini kullanalım. Herhangi bir noktanın başlangıç durumuna göre $x$ doğrultusundaki yer değiştirmesine $u$, $y$ doğrultusundaki yer değiştirmesine $v$, ve $z$ doğrultusundaki yer değiştirmesine $w$ diyelim. Burada varsayımlarımızdan ilkini yapacağız: $u,v,$ ve $w$'nun sürekli olduğunu söyleceğiz. Bu bize:\n",
    "\n",
    "$$ u= u(x,y,z), \\tag{1.1}$$\n",
    "$$ v= v(x,y,z),\\tag{1.2}$$\n",
    "$$ w= w(x,y,z) \\tag{1.3}$$\n",
    "\n",
    "sürekli fonksiyonlarını tanımlama olanağı sağlayacak. Süreklilik bize fiziksel olarak yer değiştirme sırasında bir çatlak oluşmadığını ve/veya birbiri içine geçme durumunun oluşmadığını söyler. Bunların olduğu durumlarda farklı bir formülasyon kullanmamız gerekir. "
   ]
  },
  {
   "attachments": {},
   "cell_type": "markdown",
   "metadata": {},
   "source": [
    "Şimdi yer değiştirme ile birim şekil değiştirmeler arasındaki ilişkiyi kuralım. Görüldüğü gibi 3 yer değiştirme fonksiyonu da hem $x$, hem $y$, hem de $z$'nin fonksiyonudur. Türev kullanmamız durumunda kısmi türev kullanılması gerektiği aşikardır.  Tanım olarak birim şekil değiştirmeler ile yer değiştirmeler arasındaki ilişki aşağıdaki gibidir:\n",
    "\n",
    "$$ \\epsilon_{xx}=\\frac{\\partial u}{\\partial x}, \\quad \\quad \\epsilon_{xy}=\\frac{\\partial u}{\\partial y}+\\frac{\\partial v}{\\partial x} \\tag{2.1, 2.2}$$ \n",
    "$$ \\epsilon_{yy}=\\frac{\\partial v}{\\partial y}, \\quad \\quad \\epsilon_{yz}=\\frac{\\partial v}{\\partial z}+\\frac{\\partial w}{\\partial y} \\tag{2.3, 2.4}$$\n",
    "$$ \\epsilon_{zz}=\\frac{\\partial w}{\\partial z}, \\quad \\quad \\epsilon_{xz}=\\frac{\\partial u}{\\partial z}+\\frac{\\partial w}{\\partial x} \\tag{2.5, 2.6}$$"
   ]
  },
  {
   "attachments": {},
   "cell_type": "markdown",
   "metadata": {},
   "source": [
    "Alt indisin tekrarlandığı $\\epsilon_{xx}, \\epsilon_{yy},$ ve $ \\epsilon_{zz}$ birim şekil değiştirmeleri, alt indis yönündeki [uzama kısalma](https://www.continuummechanics.org/images/strain/normal_strain_def.svg) şeklinde hayal edilebilecek birim şekil değiştirmeleri ifade eder. Diğer yandan $\\epsilon_{xy}, \\epsilon_{yz},$ ve $ \\epsilon_{xz}$ ise  düzlemdeki [açı değişimlerini](https://www.continuummechanics.org/images/strain/shear_strain_def.svg) ifade eder. Örneğin $\\epsilon_{xy}$ $xy$ düzlemindeki açı değişiminin bir göstergesidir."
   ]
  },
  {
   "attachments": {},
   "cell_type": "markdown",
   "metadata": {},
   "source": [
    "Son olarak gerilme tanımlarımızı yapalım.  x-y-z koordinat sistemde Cauchy gerilme tensörü aşağıdaki gibidir:\n",
    "\n",
    "$$ \\begin{bmatrix}\n",
    "\\sigma_{xx} & \\sigma_{xy} & \\sigma_{xz}\\\\\n",
    "\\sigma_{yx} & \\sigma_{yy} & \\sigma_{yz}\\\\\n",
    "\\sigma_{zx} & \\sigma_{zy} & \\sigma_{zz}\n",
    "\\end{bmatrix}. \\tag{3}$$\n",
    "\n",
    "Alt indisin tekrarladığı gerilmeler normal gerilme, diğer gerilmeler ise kayma gerilmesi olarak adlandırılır. Burada ilk alt indis gerilmenin olduğu yüzeyin normalini, ikincisi ise gerilmenin yönünü ifade eder. Gerilmeler matematiksel olarak ikinci derece tensörler ile ifade edilir. Cauchy gerilme tensörü simetriktir. Örneğin $\\sigma_{zy}=\\sigma_{yz}$'dir. Toplam 9 gerilmeden 6'sı birbirinden bağımsızdır. Yer değiştirme, birim şekil değiştirme ve gerilme ile ilgili daha detaylı anlatımlar elastisite ve mukavemet ders kitaplarında bulunabilir [2,3]. "
   ]
  },
  {
   "attachments": {},
   "cell_type": "markdown",
   "metadata": {},
   "source": [
    "## Düzlem Gerilme Problemi\n",
    "\n",
    "Bu bölümün başında belirttiğimiz gibi burada bir düzlem gerilme problemini ele alacağız. Düzlem gerilme problemlerinde, isminden de anlaşılabileceği üzere gerilmelerin hepsi bir düzlem içerisindedir. Düzlem olarak $xy$ düzlemini seçersek, $\\sigma_{xz} = \\sigma_{yz} = \\sigma_{zx} = \\sigma_{zy} = \\sigma_{zz} = 0 $ olur. Şimdi problemimizi ifade eden denklemi türetmek için statik dengede olan ($\\sum F =0$) herhangi iki boyutlu bir cismi hayal edelim. Bu cisimden gelişigüzel bir noktadan sonsuz küçük bir dikdörtgen çıkarıp inceleyelim. Şekil 1'de bu dikdörtgen ve üzerine etki eden gerilmeler ve kütle kuvvetleri (body force) görülebilir.\n",
    "\n",
    "<img src=\"Resimler/Ders8/Sekil1.png\" align=\"center\" width= \"600\"/>"
   ]
  },
  {
   "attachments": {},
   "cell_type": "markdown",
   "metadata": {},
   "source": [
    "Burada Taylor serisi açılımı kullanılmıştır. Örneğin:\n",
    "\n",
    "$$\\sigma_{xx}(x+dx,y)=\\sigma_{xx}(x,y)+\\frac{\\partial \\sigma_{xx}}{\\partial x}dx \\tag{4}$$\n",
    "\n",
    "olarak yazılmıştır. $x$ ve $y$ doğrultularında kolayca denge denklemlerini yazabiliriz. Denge denklemlerini yazabilmek için yapmamız gereken gerilmeleri kuvvete çevirmektir. En basit hali ile kuvvet ile gerilme arasındaki ilişki $F=\\sigma A$ ile ifade edilir. Sayfa düzleminden dışarı doğru olan eksen z ekseni olduğu için, kareninin sağ ve sol yüzey alanları $dydz$, alt ve üst yüzey alanları ise $dxdz$ olur. Şimdi $x$ doğrultusunda denge denklemini yazalım:\n",
    "\n",
    "$$ \\xrightarrow{+} \\sum -\\sigma_{xx}(x,y)dydz-\\sigma_{yx}(x,y)dxdz +\\sigma_{xx}(x,y)dydz+\\frac{\\partial \\sigma_{xx}}{\\partial x}dxdydz+\\sigma_{yx}(x,y)dxdz+\\frac{\\partial \\sigma_{yx}}{\\partial y}dxdydz+b_{x}=0  \\tag{5}$$\n",
    "\n",
    "Şimdi denklem (5)'i $dxdydz$'ye böler ve düzenlersek:\n",
    "\n",
    "$$ \\frac{\\partial \\sigma_{xx}}{\\partial x}+\\frac{\\partial \\sigma_{yx}}{\\partial y}+b_{x}=0 \\tag{6}$$\n",
    "\n",
    "elde ederiz."
   ]
  },
  {
   "attachments": {},
   "cell_type": "markdown",
   "metadata": {},
   "source": [
    "Şimdi de $y$ doğrultusunda aynı işlemleri yapalım ve denge denklemini elde edelim:\n",
    "\n",
    "$$ \\uparrow{+} \\sum -\\sigma_{yy}(x,y)dxdz-\\sigma_{xy}(x,y)dydz +\\sigma_{yy}(x,y)dxdz+\\frac{\\partial \\sigma_{yy}}{\\partial y}dxdydz+\\sigma_{xy}(x,y)dydz+\\frac{\\partial \\sigma_{xy}}{\\partial x}dxdydz+b_{y}=0,  \\tag{7}$$\n",
    "\n",
    "$$ \\frac{\\partial \\sigma_{yy}}{\\partial y}+\\frac{\\partial \\sigma_{xy}}{\\partial x}+b_{y}=0. \\tag{8}$$"
   ]
  },
  {
   "attachments": {},
   "cell_type": "markdown",
   "metadata": {},
   "source": [
    "Cauchy gerilme tensörünü tanıtırken simetrik olduğundan bahsetmiştik. Bu yüzden $\\sigma_{xy}=\\sigma_{yx}$ yazılabileceği için denklem (6) ve (8)'yi tekrar aşağıdaki gibi yazabiliriz:\n",
    "\n",
    "\n",
    "$$ \\frac{\\partial \\sigma_{xx}}{\\partial x}+\\frac{\\partial \\sigma_{xy}}{\\partial y}+b_{x}=0, \\tag{9}$$\n",
    "$$ \\frac{\\partial \\sigma_{yy}}{\\partial y}+\\frac{\\partial \\sigma_{xy}}{\\partial x}+b_{y}=0. \\tag{10}$$"
   ]
  },
  {
   "attachments": {},
   "cell_type": "markdown",
   "metadata": {},
   "source": [
    "Denklem (9) ve (10) herhangi bir 2 boyutlu düzlem gerilme problemi için geçerlidir. Problemimizin güçlü formunu elde etmek için geriye sadece sınır koşullarının tanımlanması kalmıştır. 4. bölümden hatırlanabileceği gibi iki tip sınır koşulu vardır. Bunlardan ilki Neumann ya da doğal sınır koşullarıdır. İkincisi ise Dirichlet ya da esas sınır koşullarıdır. Elastisite problemlerinde Neumann/doğal sınır koşulları çekme sınır koşulu (traction boundary condition) olarak da ifade edilir. \n",
    "\n",
    "Şekil 2'de bu bölümde dış yükler altında davranışını inceleyeceğimiz plaka gösterilmiştir. Plakamızın sol kenarında en üstte bir adet sabit mesnet vardır. Sol kenarın kalanı hareketli mesnetlenmiştir. Bunlar Dirichlet/esas sınır koşuludur ve aşağıdaki gibi ifade edilir:\n",
    "\n",
    "$$ u(0,0)= v(0,0) =0, \\tag{11}$$\n",
    "ve\n",
    "$$ u(0,y)=0. \\tag{12}$$"
   ]
  },
  {
   "attachments": {},
   "cell_type": "markdown",
   "metadata": {},
   "source": [
    "<img src=\"Resimler/Ders8/Sekil2.png\" align=\"center\" width= \"500\"/>"
   ]
  },
  {
   "attachments": {},
   "cell_type": "markdown",
   "metadata": {},
   "source": [
    "Plakamızın üst yüzünde yayılı bir yük vardır. Ayrıca plakanın sağ ucunda en kesitin tam ortasında a noktasına etki eden bir tekil yük mevcuttur. Çekme tipi sınır koşullarının tanımlanması için kısaca çekmeden (traction) bahsetmekte fayda vardır. 2 boyutlu elastisite problemlerinde çekme sınır koşulu bir sınıra etki ettirilir. Bu sınır onu tanımlayan normal ($\\mathbf{n}$) ile ifade edilir. Gerilme tensörü ile çekme arasındaki ilişki aşağıdaki gibidir:\n",
    "\n",
    "$$ \\mathbf{t}= \\mathbf{\\sigma}^{T}\\cdot \\mathbf{n}, \\tag{13}$$\n",
    "\n",
    "burada $\\mathbf{t}$ çekme vektörü, $\\mathbf{\\sigma}$ gerilme tensörü, ve $\\mathbf{n}$ yüzeyin normal vektörüdür. Bu ilişkinin türetimi elastisite kitaplarında bulunabilir [2,3]. Problemimizdeki plağa bunu uyguladığımızda, çekme sınır koşullarını aşağıdaki gibi ifade edebiliriz:\n",
    "\n",
    "$$ \\mathbf{t}=  \\begin{Bmatrix}\n",
    "    0 \\\\\n",
    "    -\\frac{30}{0.26}x \n",
    "\n",
    "    \\end{Bmatrix} KPa \\quad \\text{y=0 boyunca,} \\tag{14} $$ \n",
    "ve\n",
    "\n",
    "$$\\mathbf{p}=  \\begin{Bmatrix}\n",
    "    -10 \\\\\n",
    "    0\n",
    "\n",
    "    \\end{Bmatrix} N \\quad \\text{a noktasında.} \\tag{15}$$"
   ]
  },
  {
   "attachments": {},
   "cell_type": "markdown",
   "metadata": {},
   "source": [
    "Denklemimizin güçlü formu sınır koşullarının tanımlanması sonrası aşağıdaki gibi elde edilmiş olur:\n",
    "\n",
    "$$ \\frac{\\partial \\sigma_{xx}}{\\partial x}+\\frac{\\partial \\sigma_{xy}}{\\partial y}+b_{x}=0,$$\n",
    "$$ \\frac{\\partial \\sigma_{yy}}{\\partial y}+\\frac{\\partial \\sigma_{xy}}{\\partial x}+b_{y}=0,$$"
   ]
  },
  {
   "attachments": {},
   "cell_type": "markdown",
   "metadata": {},
   "source": [
    "$$ u(0,0)= v(0,0) =0,$$\n",
    "$$ u(0,y)=0,$$"
   ]
  },
  {
   "attachments": {},
   "cell_type": "markdown",
   "metadata": {},
   "source": [
    "$$ \\mathbf{t}=  \\begin{Bmatrix}\n",
    "    0 \\\\\n",
    "    -\\frac{30}{0.26}x \n",
    "\n",
    "    \\end{Bmatrix} kPa \\quad \\text{y=0 boyunca,}$$"
   ]
  },
  {
   "attachments": {},
   "cell_type": "markdown",
   "metadata": {},
   "source": [
    "$$\\mathbf{p}=  \\begin{Bmatrix}\n",
    "    -10 \\\\\n",
    "    0\n",
    "\n",
    "    \\end{Bmatrix} N \\quad \\text{a noktasında.}$$"
   ]
  },
  {
   "attachments": {},
   "cell_type": "markdown",
   "metadata": {},
   "source": [
    "## Zayıf Formun Türetilmesi\n",
    "\n",
    "Daha önceki bölümlerde olduğu gibi ağırlıklı kalıntı yöntemini kullanarak denklemimizin zayıf formunu elde edeceğiz. Önceki problemlerden farklı olarak burada bir değil iki denklem olduğu için her denklemi farklı bir test fonksiyonu ($\\mathbf{v}, \\mathbf{w}$) ile çarpacağız. Şimdi denklemleri test fonksiyonları ile çarpıp 2 boyutlu ağ boyunca integralini alalım:\n",
    "\n",
    "$$ \\int_{V}\\mathbf{v}\\left(\\frac{\\partial \\sigma_{xx}}{\\partial x}+\\frac{\\partial \\sigma_{xy}}{\\partial y}+b_{x}\\right)dV=0, \\tag{16}$$\n",
    "$$ \\int_{V}\\mathbf{w}\\left(\\frac{\\partial \\sigma_{yy}}{\\partial y}+\\frac{\\partial \\sigma_{xy}}{\\partial x}+b_{y}\\right)dV=0. \\tag{17}$$"
   ]
  },
  {
   "attachments": {},
   "cell_type": "markdown",
   "metadata": {},
   "source": [
    "Denklem (16) ve (17) aşağıdaki gibi de yazılabilir:\n",
    "\n",
    "$$ \\int_{V}\\mathbf{v} \\nabla\\cdot\\begin{Bmatrix} \\sigma_{xx} \\\\ \\sigma_{xy} \\end{Bmatrix} dV +\\int_{V}\\mathbf{v}b_{x}dV = 0, \\tag{18}$$\n",
    "$$ \\int_{V}\\mathbf{w} \\nabla\\cdot\\begin{Bmatrix} \\sigma_{xy} \\\\ \\sigma_{yy} \\end{Bmatrix} dV+\\int_{V}\\mathbf{w}b_{y}dV = 0. \\tag{19}$$"
   ]
  },
  {
   "attachments": {},
   "cell_type": "markdown",
   "metadata": {},
   "source": [
    "Çarpım türevi kuralı kullanılarak:\n",
    "\n",
    "$$ \\nabla \\cdot \\left(\\mathbf{v}\\begin{Bmatrix} \\sigma_{xx} \\\\ \\sigma_{xy} \\end{Bmatrix}\\right)=\\mathbf{v}\\nabla \\cdot \\begin{Bmatrix} \\sigma_{xx} \\\\ \\sigma_{xy} \\end{Bmatrix} + \\nabla \\mathbf{v} \\cdot \\begin{Bmatrix} \\sigma_{xx} \\\\ \\sigma_{xy} \\end{Bmatrix}, \\tag{20} $$\n",
    "$$ \\nabla \\cdot \\left(\\mathbf{w}\\begin{Bmatrix} \\sigma_{xy} \\\\ \\sigma_{yy} \\end{Bmatrix}\\right)=\\mathbf{w}\\nabla \\cdot \\begin{Bmatrix} \\sigma_{xy} \\\\ \\sigma_{yy} \\end{Bmatrix} + \\nabla \\mathbf{w} \\cdot \\begin{Bmatrix} \\sigma_{xy} \\\\ \\sigma_{yy} \\end{Bmatrix} \\tag{21} $$\n",
    "\n",
    "yazılabilir. "
   ]
  },
  {
   "attachments": {},
   "cell_type": "markdown",
   "metadata": {},
   "source": [
    "Denklem (20) ve denklem (21), sırası ile denklem (18) ve denklem (19)'da yerlerine konulursa:\n",
    "\n",
    "$$ \\int_{V}\\nabla \\cdot \\left(\\mathbf{v}\\begin{Bmatrix} \\sigma_{xx} \\\\ \\sigma_{xy} \\end{Bmatrix}\\right) dV -\\int_{V} \\nabla \\mathbf{v} \\cdot \\begin{Bmatrix} \\sigma_{xx} \\\\ \\sigma_{xy} \\end{Bmatrix}dV  +\\int_{V}\\mathbf{v}b_{x}dV = 0, \\tag{22}$$\n",
    "$$ \\int_{V}\\nabla \\cdot \\left(\\mathbf{w}\\begin{Bmatrix} \\sigma_{xy} \\\\ \\sigma_{yy} \\end{Bmatrix}\\right) dV -\\int_{V} \\nabla \\mathbf{w} \\cdot \\begin{Bmatrix} \\sigma_{xy} \\\\ \\sigma_{yy} \\end{Bmatrix}dV  +\\int_{V}\\mathbf{w}b_{y}dV = 0 \\tag{23}$$\n",
    "\n",
    "elde edilir. "
   ]
  },
  {
   "attachments": {},
   "cell_type": "markdown",
   "metadata": {},
   "source": [
    "Diverjans teoremini denklem (22) ve denklem (23)'deki ilk terimlere uygularsak:\n",
    "\n",
    "$$ \\int_{V}\\nabla \\cdot \\left(\\mathbf{v}\\begin{Bmatrix} \\sigma_{xx} \\\\ \\sigma_{xy} \\end{Bmatrix}\\right) dV = \\int_{\\Omega} \\left(\\mathbf{v}\\begin{Bmatrix} \\sigma_{xx} \\\\ \\sigma_{xy} \\end{Bmatrix}\\right) \\cdot n \\ d\\Omega, \\tag{24}$$\n",
    "$$ \\int_{V}\\nabla \\cdot \\left(\\mathbf{w}\\begin{Bmatrix} \\sigma_{xy} \\\\ \\sigma_{yy} \\end{Bmatrix}\\right) dV = \\int_{\\Omega} \\left(\\mathbf{w}\\begin{Bmatrix} \\sigma_{xy} \\\\ \\sigma_{yy} \\end{Bmatrix}\\right) \\ \\cdot n \\ d\\Omega \\tag{25}$$\n",
    "\n",
    "elde ederiz."
   ]
  },
  {
   "attachments": {},
   "cell_type": "markdown",
   "metadata": {},
   "source": [
    "Denklem (24) ve denklem (25)'i sırası ile denklem (22) ve denklem (23)' de yerine koyarsak:\n",
    "\n",
    "$$ \\int_{\\Omega} \\left(\\mathbf{v}\\begin{Bmatrix} \\sigma_{xx} \\\\ \\sigma_{xy} \\end{Bmatrix}\\right) \\cdot n \\ d\\Omega -\\int_{V} \\nabla \\mathbf{v} \\cdot \\begin{Bmatrix} \\sigma_{xx} \\\\ \\sigma_{xy} \\end{Bmatrix}dV  +\\int_{V}\\mathbf{v}b_{x}dV = 0, \\tag{26}$$\n",
    "$$ \\int_{\\Omega} \\left(\\mathbf{w}\\begin{Bmatrix} \\sigma_{xy} \\\\ \\sigma_{yy} \\end{Bmatrix}\\right) \\ \\cdot n \\ d\\Omega -\\int_{V} \\nabla \\mathbf{w} \\cdot \\begin{Bmatrix} \\sigma_{xy} \\\\ \\sigma_{yy} \\end{Bmatrix}dV  +\\int_{V}\\mathbf{w}b_{y}dV = 0. \\tag{27}$$"
   ]
  },
  {
   "attachments": {},
   "cell_type": "markdown",
   "metadata": {},
   "source": [
    "Denklem (13) kullanılarak denklem (26) ve denklem (27):\n",
    "\n",
    "$$ \\int_{\\Omega} \\mathbf{v}t_{x} d\\Omega -\\int_{V} \\nabla \\mathbf{v} \\cdot \\begin{Bmatrix} \\sigma_{xx} \\\\ \\sigma_{xy} \\end{Bmatrix}dV  +\\int_{V}\\mathbf{v}b_{x}dV = 0, \\tag{28}$$\n",
    "$$ \\int_{\\Omega} \\mathbf{w}t_{y} d\\Omega -\\int_{V} \\nabla \\mathbf{w} \\cdot \\begin{Bmatrix} \\sigma_{xy} \\\\ \\sigma_{yy} \\end{Bmatrix}dV  +\\int_{V}\\mathbf{w}b_{y}dV = 0 \\tag{29}$$\n",
    "\n",
    "şeklinde yazılabilir. Görüldüğü gibi denklem (28) ve denklem (29)'un birinci terimleri çekme tipi sınır koşullarını ifade eder. Tekil yükün zayıf formun içerisinde nasıl ifade edildiği detaylı biçimde [1]' de anlatılmaktadır. Tekil yükü ifade eden terimi de denklemlerimize eklersek:\n",
    "\n",
    "$$ \\int_{\\Omega} \\mathbf{v}t_{x} d\\Omega+\\mathbf{v}(a)p_{x} -\\int_{V} \\nabla \\mathbf{v} \\cdot \\begin{Bmatrix} \\sigma_{xx} \\\\ \\sigma_{xy} \\end{Bmatrix}dV  +\\int_{V}\\mathbf{v}b_{x}dV = 0, \\tag{30}$$\n",
    "$$ \\int_{\\Omega} \\mathbf{w}t_{y} d\\Omega+\\mathbf{w}(a)p_{y} -\\int_{V} \\nabla \\mathbf{w} \\cdot \\begin{Bmatrix} \\sigma_{xy} \\\\ \\sigma_{yy} \\end{Bmatrix}dV  +\\int_{V}\\mathbf{w}b_{y}dV = 0. \\tag{31}$$"
   ]
  },
  {
   "attachments": {},
   "cell_type": "markdown",
   "metadata": {},
   "source": [
    "Düzlem gerilme problemini incelediğimiz için düzlem dışı doğrultuda gerilme ve birim şekil değiştirmeler sabit kabul edildiği için  $dV=hd\\Omega$ ve $d\\Omega=hd\\Gamma$ alınabilir. Burada $h$ düzlem içine doğru olan kalınlıktır. Bu ifadeleri denklem (30) ve denklem (31)'de yerine koyup her iki tarafı $h$'a bölersek:\n",
    "\n",
    "\n",
    "$$ \\int_{\\Gamma} \\mathbf{v}t_{x} d\\Gamma+\\mathbf{v}(a)p_{x}/h -\\int_{\\Omega} \\nabla \\mathbf{v} \\cdot \\begin{Bmatrix} \\sigma_{xx} \\\\ \\sigma_{xy} \\end{Bmatrix}d\\Omega  +\\int_{\\Omega}\\mathbf{v}b_{x}d\\Omega = 0, \\tag{32}$$\n",
    "$$ \\int_{\\Gamma} \\mathbf{w}t_{y} d\\Gamma+\\mathbf{w}(a)p_{y}/h -\\int_{\\Omega} \\nabla \\mathbf{w} \\cdot \\begin{Bmatrix} \\sigma_{xy} \\\\ \\sigma_{yy} \\end{Bmatrix}d\\Omega  +\\int_{\\Omega}\\mathbf{w}b_{y}d\\Omega = 0 \\tag{33}$$\n",
    "\n",
    "elde edilir."
   ]
  },
  {
   "attachments": {},
   "cell_type": "markdown",
   "metadata": {},
   "source": [
    "Son olarak zayıf formumuzu gerilmeler cinsinden yazmak yerine birim şekil değiştirmeler cinsiden yazabiliriz. Bunun için birim şekil değiştirmeler ile gerilmeler arasındaki ilişkiyi kuran bünye denklemlerini (constitutive equations) yazmamız gerekir. Bünye denklemleri 4. bölümde tanıttığımız Hooke yasasının daha genişletilmiş halidir. En basit formda bünye denklemleri:\n",
    "\n",
    "$$ \\mathbf{\\sigma}=\\mathbf{C}\\mathbf{\\epsilon} \\tag{34} $$\n",
    "\n",
    "şeklinde yazılabilir. Düzlem gerilme problemleri için:\n",
    "\n",
    "$$ \\mathbf{C}=\\frac{E}{(1-\\nu^{2})} \\begin{bmatrix} 1 & \\nu & 0 \\\\ \\nu & 1 & 0 \\\\ 0 & 0 & \\frac{1-\\nu}{2} \\end{bmatrix} \\tag{35}$$\n",
    "\n",
    "şeklindedir [1]. Denklem (34)'ü kullanarak ve denklem (32) ve denklem (33)' ü toplayarak zayıf formumuzun son halini aşağıdaki gibi elde ederiz:\n",
    "\n",
    "$$ \\int_{\\Gamma} \\mathbf{v}t_{x} + \\mathbf{w}t_{y} d\\Gamma+\\mathbf{v}(a)p_{x}/h+\\mathbf{w}(a)p_{y}/h -\\int_{\\Omega} \\left(\\nabla \\mathbf{v} \\cdot \\begin{Bmatrix} \\sigma_{xx} \\\\ \\sigma_{xy} \\end{Bmatrix}+\\nabla \\mathbf{w} \\cdot \\begin{Bmatrix} \\sigma_{xy} \\\\ \\sigma_{yy} \\end{Bmatrix}\\right)d\\Omega  +\\int_{\\Omega}(\\mathbf{v}b_{x}+\\mathbf{w}b_{y}d)\\Omega = 0. \\tag{36}$$\n",
    "\n",
    "Gelecek bölümde denklem (36)'daki zayıf formu Galerkin yöntemi ile yakınsamaya çalışacağız."
   ]
  },
  {
   "attachments": {},
   "cell_type": "markdown",
   "metadata": {},
   "source": [
    "## Referanslar \n",
    "\n",
    "[1] Li, G. (2020). Introduction to the Finite Element Method and Implementation with MATLAB®. Cambridge University Press.\n",
    "\n",
    "[2] Ugural, A. C., & Fenster, S. K. (2011). Advanced mechanics of materials and applied elasticity. Pearson Education.\n",
    "\n",
    "[3] Timoshenko, S., Goodier, J. N. (1970). Theory of Elasticity. New York: McGraw-Hill."
   ]
  }
 ],
 "metadata": {
  "language_info": {
   "name": "python"
  },
  "orig_nbformat": 4
 },
 "nbformat": 4,
 "nbformat_minor": 2
}
