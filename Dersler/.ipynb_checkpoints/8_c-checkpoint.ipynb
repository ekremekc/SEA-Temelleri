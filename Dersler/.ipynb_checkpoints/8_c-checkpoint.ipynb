{
 "cells": [
  {
   "cell_type": "markdown",
   "metadata": {},
   "source": [
    "# Global Sertlik Matrisi ve Kuvvet Vektörünün Oluşturulması\n",
    "\n",
    "Geçtiğimiz bölümde eleman sertlik matrisini ve kuvvet vektörünü referans elemanlar için integral formunda türetmiştik. Şimdi bu türettiğimiz denklemleri nümerik olarak hesaplayıp, global sertlik matrisini ve kuvvet vektörünü elde edelim. Hesaplamalara başlamadan önce problemin çözümünde kullanacağımız ağı (mesh) tanımlayalım. Şekil 3'te kullanacağımız ağ yapısı gösterilmiştir. Gri noktalar düğüm noktalarını göstermektedir. Eleman numaraları elemanların içinde yuvarlak içerisinde gösterilirken, düğüm noktalarının yanında numaraları ve $x-y$ koordinat sisteminde konumları metre cinsinden gösterilmektedir. "
   ]
  },
  {
   "cell_type": "markdown",
   "metadata": {},
   "source": [
    "<img src=\"Resimler/Ders8/Sekil3.png\" align=\"center\" width= \"700\"/>"
   ]
  },
  {
   "cell_type": "markdown",
   "metadata": {},
   "source": [
    "## Global Sertlik Matrisinin Oluşturulması\n",
    "\n",
    "Öncelikle 8b'de referans eleman için türettiğimiz yerel sertlik matrisini ifade eden integrali hatırlayalım:\n",
    "\n",
    "$$\\int_{-1}^{1}\\int_{-1}^{1} \\mathbf{N}^{T}\\mathbf{J}^{T}\\mathbf{H}^{T}\\mathbf{C}\\mathbf{H}\\mathbf{J}\\mathbf{N}d\\eta d\\xi det(\\mathbf{J}).\\tag{1} $$\n"
   ]
  },
  {
   "cell_type": "markdown",
   "metadata": {},
   "source": [
    "Şimdi de integral içerisindeki matrisleri hatırlayalım:\n",
    "\n",
    "$$ \\mathbf{C}= \\frac{E}{(1-\\nu^{2})} \\begin{bmatrix} 1 & \\nu & 0 \\\\ \\nu & 1 & 0 \\\\ 0 & 0 & \\frac{1-\\nu}{2} \\end{bmatrix}, $$\n",
    "$$ \\mathbf{H}=\\begin{bmatrix} 1 & 0 & 0 & 0 \\\\ 0 & 0 & 0 & 1 \\\\ 0 & 1 & 1 & 0 \\end{bmatrix},$$\n",
    "$$\\mathbf{J}=\\begin{bmatrix} \\mathbf{J^{-1}} & 0 \\\\ 0 & \\mathbf{J^{-1}} \\end{bmatrix},$$\n",
    "$$\\mathbf{N}=\\begin{bmatrix} \\frac{\\partial N_1}{\\partial \\xi}  & 0 & \\frac{\\partial N_2}{\\partial \\xi}  & 0 & \\frac{\\partial N_3}{\\partial \\xi} & 0 & \\frac{\\partial N_4}{\\partial \\xi} & 0 & \\\\ \\\\ \\frac{\\partial N_1}{\\partial \\eta} & 0  & \\frac{\\partial N_2}{\\partial \\eta} & 0  & \\frac{\\partial N_3}{\\partial \\eta} & 0 & \\frac{\\partial N_4}{\\partial \\eta} & 0 \\\\ \\\\ 0  & \\frac{\\partial N_1}{\\partial \\xi}  & 0 & \\frac{\\partial N_2}{\\partial \\xi} & 0  & \\frac{\\partial N_3}{\\partial \\xi}  & 0 & \\frac{\\partial N_4}{\\partial \\xi}\\\\ \\\\ 0  & \\frac{\\partial N_1}{\\partial \\eta}  & 0 & \\frac{\\partial N_2}{\\partial \\eta} & 0  & \\frac{\\partial N_3}{\\partial \\eta}  & 0 & \\frac{\\partial N_4}{\\partial \\eta} \\end{bmatrix}.$$"
   ]
  },
  {
   "cell_type": "markdown",
   "metadata": {},
   "source": [
    "Görülebileceği üzere $\\mathbf{C}$ ve $\\mathbf{H}$ sabit değerli matrislerdir. İntegrali hesaplayabilmek için $\\mathbf{J}$ ve $\\mathbf{N}$ matirslerini tanımlamamız gerekir. Öncelikle bunun için 7. bölümde olduğu gibi *sympy* kütüphanesini kullanalım. "
   ]
  },
  {
   "cell_type": "code",
   "execution_count": 31,
   "metadata": {},
   "outputs": [],
   "source": [
    "import sys"
   ]
  },
  {
   "cell_type": "markdown",
   "metadata": {},
   "source": [
    "$\\mathbf{N}$ matrisini yazabilmek için şekil fonksiyonlarını sembolik olarak yazalım:"
   ]
  },
  {
   "cell_type": "code",
   "execution_count": 32,
   "metadata": {},
   "outputs": [
    {
     "data": {
      "text/latex": [
       "$\\displaystyle \\left[\\begin{matrix}\\frac{\\left(\\eta + 1\\right) \\left(\\xi + 1\\right)}{4}\\\\\\frac{\\left(1 - \\xi\\right) \\left(\\eta + 1\\right)}{4}\\\\\\frac{\\left(1 - \\eta\\right) \\left(1 - \\xi\\right)}{4}\\\\\\frac{\\left(1 - \\eta\\right) \\left(\\xi + 1\\right)}{4}\\end{matrix}\\right]$"
      ],
      "text/plain": [
       "Matrix([\n",
       "[(eta + 1)*(xi + 1)/4],\n",
       "[(1 - xi)*(eta + 1)/4],\n",
       "[(1 - eta)*(1 - xi)/4],\n",
       "[(1 - eta)*(xi + 1)/4]])"
      ]
     },
     "execution_count": 32,
     "metadata": {},
     "output_type": "execute_result"
    }
   ],
   "source": [
    "import sympy as sp\n",
    "import numpy as np\n",
    "\n",
    "xi = sp.Symbol(\"xi\")\n",
    "eta = sp.Symbol(\"eta\")\n",
    "x_ = sp.symbols(\"x1,x2,x3,x4\")\n",
    "y_ = sp.symbols(\"y1,y2,y3,y4\")\n",
    "şekil = sp.Matrix([(1+xi)*(1+eta)/4,\n",
    "                   (1-xi)*(1+eta)/4,\n",
    "                   (1-xi)*(1-eta)/4,\n",
    "                   (1+xi)*(1-eta)/4])\n",
    "şekil"
   ]
  },
  {
   "cell_type": "markdown",
   "metadata": {},
   "source": [
    "Şimdi şekil fonksiyonlarının $\\xi$ ve $\\eta$'e göre türevlerini alıp $\\mathbf{N}$'i tanımlayalım:"
   ]
  },
  {
   "cell_type": "code",
   "execution_count": 33,
   "metadata": {},
   "outputs": [
    {
     "data": {
      "text/latex": [
       "$\\displaystyle \\left[\\begin{matrix}\\frac{\\eta}{4} + \\frac{1}{4} & 0 & - \\frac{\\eta}{4} - \\frac{1}{4} & 0 & \\frac{\\eta}{4} - \\frac{1}{4} & 0 & \\frac{1}{4} - \\frac{\\eta}{4} & 0\\\\\\frac{\\xi}{4} + \\frac{1}{4} & 0 & \\frac{1}{4} - \\frac{\\xi}{4} & 0 & \\frac{\\xi}{4} - \\frac{1}{4} & 0 & - \\frac{\\xi}{4} - \\frac{1}{4} & 0\\\\0 & \\frac{\\eta}{4} + \\frac{1}{4} & 0 & - \\frac{\\eta}{4} - \\frac{1}{4} & 0 & \\frac{\\eta}{4} - \\frac{1}{4} & 0 & \\frac{1}{4} - \\frac{\\eta}{4}\\\\0 & \\frac{\\xi}{4} + \\frac{1}{4} & 0 & \\frac{1}{4} - \\frac{\\xi}{4} & 0 & \\frac{\\xi}{4} - \\frac{1}{4} & 0 & - \\frac{\\xi}{4} - \\frac{1}{4}\\end{matrix}\\right]$"
      ],
      "text/plain": [
       "Matrix([\n",
       "[eta/4 + 1/4,           0, -eta/4 - 1/4,            0, eta/4 - 1/4,           0, 1/4 - eta/4,           0],\n",
       "[ xi/4 + 1/4,           0,   1/4 - xi/4,            0,  xi/4 - 1/4,           0, -xi/4 - 1/4,           0],\n",
       "[          0, eta/4 + 1/4,            0, -eta/4 - 1/4,           0, eta/4 - 1/4,           0, 1/4 - eta/4],\n",
       "[          0,  xi/4 + 1/4,            0,   1/4 - xi/4,           0,  xi/4 - 1/4,           0, -xi/4 - 1/4]])"
      ]
     },
     "execution_count": 33,
     "metadata": {},
     "output_type": "execute_result"
    }
   ],
   "source": [
    "gradyen_xi = sp.diff(şekil, xi)\n",
    "gradyen_eta = sp.diff(şekil, eta)\n",
    "\n",
    "N = sp.Matrix([[gradyen_xi[0],0,gradyen_xi[1],0,gradyen_xi[2],0, gradyen_xi[3],0],[gradyen_eta[0],0,gradyen_eta[1],0,gradyen_eta[2],0, gradyen_eta[3],0],[0,gradyen_xi[0],0,gradyen_xi[1],0, gradyen_xi[2],0,gradyen_xi[3]],[0,gradyen_eta[0],0,gradyen_eta[1],0, gradyen_eta[2],0,gradyen_eta[3]]])\n",
    "\n",
    "N"
   ]
  },
  {
   "cell_type": "markdown",
   "metadata": {},
   "source": [
    "Şimdi jakopyen matrisini oluşturup 1. eleman için $\\mathbf{J}$ matrisini hesaplayalım:"
   ]
  },
  {
   "cell_type": "code",
   "execution_count": 34,
   "metadata": {},
   "outputs": [
    {
     "data": {
      "text/latex": [
       "$\\displaystyle - 0.0052 \\eta - 0.0012$"
      ],
      "text/plain": [
       "-0.0052*eta - 0.0012"
      ]
     },
     "execution_count": 34,
     "metadata": {},
     "output_type": "execute_result"
    }
   ],
   "source": [
    "c_şekil = sp.Matrix([0, 0])\n",
    "for i in range(4):\n",
    "    c_şekil[0] += x_[i] * şekil[i]\n",
    "    c_şekil[1] += y_[i] * şekil[i]\n",
    "j = c_şekil.jacobian([xi, eta]).T\n",
    "\n",
    "x_koord = [0,     0.16,    0.16,  0.0] \n",
    "y_koord = [-0.32,-0.20,   -0.1, -0.16]\n",
    "    \n",
    "for nokta in range(4):\n",
    "    j = j.subs(x_[nokta],x_koord[nokta]) \n",
    "    j = j.subs(y_[nokta],y_koord[nokta])\n",
    "\n",
    "J= sp.Matrix.zeros(4,4)\n",
    "J[:2,:2] = j.inv()\n",
    "J[2:,2:] = j.inv()\n",
    "det = j.det()\n",
    "det"
   ]
  },
  {
   "cell_type": "markdown",
   "metadata": {},
   "source": [
    "Son olarak $\\mathbf{C}$ ve $\\mathbf{H}$ matrislerini tanımlayıp, 1. eleman için eleman sertlik matrisini elde edelim:"
   ]
  },
  {
   "cell_type": "code",
   "execution_count": 35,
   "metadata": {},
   "outputs": [
    {
     "data": {
      "text/latex": [
       "$\\displaystyle \\left[\\begin{matrix}10989010.989011 & 3296703.2967033 & 0\\\\3296703.2967033 & 10989010.989011 & 0\\\\0 & 0 & 3846153.84615385\\end{matrix}\\right]$"
      ],
      "text/plain": [
       "Matrix([\n",
       "[10989010.989011, 3296703.2967033,                0],\n",
       "[3296703.2967033, 10989010.989011,                0],\n",
       "[              0,               0, 3846153.84615385]])"
      ]
     },
     "execution_count": 35,
     "metadata": {},
     "output_type": "execute_result"
    }
   ],
   "source": [
    "E=1E7\n",
    "v=0.3\n",
    "H=sp.Matrix([[1,0,0,0],[0,0,0,1],[0,1,1,0]])\n",
    "C=sp.Matrix([[1,v,0],[v,1,0],[0,0,(1-v)/2]])*E/(1-v**2)\n",
    "C"
   ]
  },
  {
   "cell_type": "code",
   "execution_count": 36,
   "metadata": {},
   "outputs": [
    {
     "data": {
      "text/plain": [
       "array([[ 1372002.16514664,  -446428.57142857,  1530325.22526199,\n",
       "        -1476648.35164835,  2310337.08113829,  1116071.42857143,\n",
       "        -5212664.47154706,   807005.4945055 ],\n",
       "       [ -446428.57142857, -1428281.38505583, -1201923.07692308,\n",
       "         2444095.97169895,  1116071.42857143,  1109957.26411276,\n",
       "          532280.21978022, -2125771.85075591],\n",
       "       [ 1530325.22526221, -1201923.07692308, -7611037.25980292,\n",
       "         3125000.00000001,  1982533.59107805,   532280.21978022,\n",
       "         4098178.44346271, -2455357.14285715],\n",
       "       [-1476648.35164835,  2444095.97169889,  3125000.        ,\n",
       "        -4572345.1837882 ,   807005.4945055 ,   392547.47116303,\n",
       "        -2455357.14285714,  1735701.74092632],\n",
       "       [ 2310337.08113852,  1116071.42857143,  1982533.59107804,\n",
       "          807005.4945055 ,  1219745.30260962,  -446428.57142857,\n",
       "        -5512615.97482568, -1476648.35164835],\n",
       "       [ 1116071.42857143,  1109957.26411277,   532280.21978022,\n",
       "          392547.47116302,  -446428.57142857,  1130035.85591347,\n",
       "        -1201923.07692308, -2632540.59118926],\n",
       "       [-5212664.47154702,   532280.21978022,  4098178.44346293,\n",
       "        -2455357.14285715, -5512615.97482585, -1201923.07692308,\n",
       "         6627102.00291062,  3125000.00000001],\n",
       "       [  807005.4945055 , -2125771.85075565, -2455357.14285714,\n",
       "         1735701.74092631, -1476648.35164835, -2632540.59118928,\n",
       "         3125000.        ,  3022610.70101868]])"
      ]
     },
     "execution_count": 36,
     "metadata": {},
     "output_type": "execute_result"
    }
   ],
   "source": [
    "K_ele_sys=N.T*J.T*H.T*C*H*J*N*det\n",
    "from scipy import integrate\n",
    "from sympy.utilities import lambdify\n",
    "\n",
    "K_e = np.zeros((8,8))\n",
    "for i in range(8):\n",
    "    for j in range(8):\n",
    "        # scipy'da bulunan integrasyon fonksiyonunu kullanmak için\n",
    "        # hücre değerlerini geçici olarak 'lambda' formatına çevirmemiz gerekiyor.\n",
    "        geçici_fonksiyon = lambdify( (xi,eta), K_ele_sys[i,j], 'math' )\n",
    "        K_e[i,j] += integrate.nquad(geçici_fonksiyon, [[-1, 1],[-1, 1]])[0]\n",
    "K_e\n"
   ]
  },
  {
   "cell_type": "markdown",
   "metadata": {},
   "source": [
    "Şimdi herhangi bir eleman için $\\mathbf{J}$ ve eleman sertlik matrisini hesaplayan fonksiyonumuzu tanımlayalım:"
   ]
  },
  {
   "cell_type": "code",
   "execution_count": 37,
   "metadata": {},
   "outputs": [
    {
     "ename": "SyntaxError",
     "evalue": "'return' outside function (27246211.py, line 23)",
     "output_type": "error",
     "traceback": [
      "\u001b[0;36m  Input \u001b[0;32mIn [37]\u001b[0;36m\u001b[0m\n\u001b[0;31m    return J\u001b[0m\n\u001b[0m    ^\u001b[0m\n\u001b[0;31mSyntaxError\u001b[0m\u001b[0;31m:\u001b[0m 'return' outside function\n"
     ]
    }
   ],
   "source": [
    "def lokal_jakobyen(self, x_koord,y_koord):\n",
    "    # Elemana ait noktaların global indislerini içeren dizi\n",
    "    eleman_nokta_indisler = self.mesh.elemanlar[eleman_no]\n",
    "    # Elemana ait koordinatların x ve y noktalarını içeren dizi\n",
    "    eleman_noktalar = np.take(self.mesh.noktalar, eleman_nokta_indisler, axis=0)\n",
    "        \n",
    "    J = self.J\n",
    "    c_şekil = sp.Matrix([0, 0])\n",
    "    for i in range(4):\n",
    "        c_şekil[0] += x_[i] * şekil[i]\n",
    "        c_şekil[1] += y_[i] * şekil[i]\n",
    "        j = c_şekil.jacobian([xi, eta]).T\n",
    "    \n",
    "    for nokta in range(4):\n",
    "        j = j.subs(x_[nokta],x_koord[nokta]) \n",
    "        j = j.subs(y_[nokta],y_koord[nokta])\n",
    "\n",
    "        J= sp.Matrix.zeros(4,4)\n",
    "        J[:2,:2] = j.inv()\n",
    "        J[2:,2:] = j.inv()\n",
    "        det = j.det()\n",
    "        \n",
    "return J\n",
    "\n",
    "\n",
    "def K_e_eleman(V, eleman_no, k):\n",
    "\n",
    "    J = V.lokal_jakobyen(eleman_no)\n",
    "\n",
    "    K_e_sym = V.gradyen.T*(J**(-1)).T*k*(J**(-1))*V.gradyen*J.det()\n",
    "\n",
    "    K_e = np.zeros((V.nokta_sayısı,V.nokta_sayısı))\n",
    "\n",
    "    for i in range(V.nokta_sayısı):\n",
    "        for j in range(V.nokta_sayısı):\n",
    "            geçici_fonksiyon = lambdify( (V.xi,V.eta), K_e_sym[i,j], 'math' )\n",
    "            K_e[i,j] += integrate.nquad(geçici_fonksiyon, [[-1, 1],[-1, 1]])[0]\n",
    "            \n",
    "return K_e"
   ]
  }
 ],
 "metadata": {
  "kernelspec": {
   "display_name": "Python 3 (ipykernel)",
   "language": "python",
   "name": "python3"
  },
  "language_info": {
   "codemirror_mode": {
    "name": "ipython",
    "version": 3
   },
   "file_extension": ".py",
   "mimetype": "text/x-python",
   "name": "python",
   "nbconvert_exporter": "python",
   "pygments_lexer": "ipython3",
   "version": "3.10.12"
  }
 },
 "nbformat": 4,
 "nbformat_minor": 2
}
