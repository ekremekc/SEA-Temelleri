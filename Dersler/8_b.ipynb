{
 "cells": [
  {
   "attachments": {},
   "cell_type": "markdown",
   "metadata": {},
   "source": [
    "# Eleman Matris Sisteminin Oluşturulması\n",
    "\n",
    "Bu bölümde, bölüm 8a'da elde etmiş olduğumuz zayıf formu Galerkin Yöntemi ile yakınsayacağız ve eleman matrislerini elde edeceğiz. Öncelikle zayıf formumuzu hatırlayalım:\n",
    "\n",
    "$$ \\int_{\\Gamma} (vt_{x} + wt_{y}) d\\Gamma+v(a)p_{x}/h+w(a)p_{y}/h -\\int_{\\Omega}\\left[\\frac{\\partial v}{\\partial x} \\quad \\frac{\\partial w}{\\partial y}\\quad \\frac{\\partial v}{\\partial x}+\\frac{\\partial w}{\\partial x} \\right] \\mathbf{C}\\begin{Bmatrix} \\epsilon_{xx} \\\\ \\epsilon_{yy}\\\\ \\epsilon_{xy} \\end{Bmatrix}d\\Omega +\\int_{\\Omega}(vb_{x}+wb_{y})d\\Omega = 0\\tag{1}$$\n",
    "\n",
    "Denklem (1)'de ilk integral terimi kirişimize uygulanan yüzey çekmelerinin (traction) yapmış olduğu işi ifade eder. 3. ve 4. terimle noktasal yükün etkisini gösterirken, integral formunda olan 5. terim şekil değiştirmenin yaptığı işi ifade eder. Denklemimizin son terimi kütle kuvvetlerinin yapmış olduğu işe karşılık gelir. Öncelikle şekil değiştirmenin yaptığı işi ifade eden terim ile başlayalım. Bu terimi, 8a'da tanıttığımız yer değiştirmeler ile şekil değiştirmeler arasındaki bağıntı ile tekrar aşağıdaki gibi yazabiliriz:\n",
    "\n",
    "$$\\int_{\\Omega}\\left[\\frac{\\partial v}{\\partial x} \\quad \\frac{\\partial w}{\\partial y}\\quad \\frac{\\partial v}{\\partial x}+\\frac{\\partial w}{\\partial x} \\right] \\mathbf{C}\\begin{Bmatrix} \\epsilon_{xx} \\\\ \\epsilon_{yy}\\\\ \\epsilon_{xy} \\end{Bmatrix}d\\Omega = \\int_{\\Omega}\\left[\\frac{\\partial v}{\\partial x} \\quad \\frac{\\partial w}{\\partial y}\\quad \\frac{\\partial v}{\\partial x}+\\frac{\\partial w}{\\partial x} \\right] \\mathbf{C}\\begin{Bmatrix} \\frac{\\partial u}{\\partial x} \\\\ \\\\ \\frac{\\partial v}{\\partial y}\\\\ \\\\ \\frac{\\partial u}{\\partial y}+\\frac{\\partial v}{\\partial x} \\end{Bmatrix}d\\Omega. \\tag{2}$$"
   ]
  },
  {
   "attachments": {},
   "cell_type": "markdown",
   "metadata": {},
   "source": [
    "Bölüm 7b'de tanıtmış olduğumuz 2 boyutlu şekil fonksiyonlarını kullanarak, test fonksiyonlarını aşağıdaki gibi yazabiliriz:\n",
    "\n",
    "$$\n",
    "v = \n",
    "\\begin{bmatrix}\n",
    "N_1 & N_2 & N_3 & N_4\n",
    "\\end{bmatrix}\n",
    "\\begin{bmatrix}\n",
    "c_1 \\\\ c_2 \\\\ c_3 \\\\ c_4\n",
    "\\end{bmatrix}\n",
    ",\n",
    "\\quad\n",
    "\\frac{\\partial v}{\\partial x} = \n",
    "\\begin{bmatrix}\n",
    "\\frac{\\partial N_1}{\\partial x}  & \\frac{\\partial N_2}{\\partial x}  & \\frac{\\partial N_3}{\\partial x} & \\frac{\\partial N_4}{\\partial x}\n",
    "\\end{bmatrix}\n",
    "\\begin{bmatrix}\n",
    "c_1 \\\\ c_2 \\\\ c_3 \\\\ c_4\n",
    "\\end{bmatrix}\n",
    ",\n",
    "\\quad\n",
    "\\frac{\\partial v}{\\partial y} = \n",
    "\\begin{bmatrix}\n",
    "\\frac{\\partial N_1}{\\partial y}  & \\frac{\\partial N_2}{\\partial y}  & \\frac{\\partial N_3}{\\partial y} & \\frac{\\partial N_4}{\\partial y}\n",
    "\\end{bmatrix}\n",
    "\\begin{bmatrix}\n",
    "c_1 \\\\ c_2 \\\\ c_3 \\\\ c_4\n",
    "\\end{bmatrix}, \\tag{3}$$\n",
    "ve"
   ]
  },
  {
   "attachments": {},
   "cell_type": "markdown",
   "metadata": {},
   "source": [
    "$$\n",
    "w = \n",
    "\\begin{bmatrix}\n",
    "N_1 & N_2 & N_3 & N_4\n",
    "\\end{bmatrix}\n",
    "\\begin{bmatrix}\n",
    "d_1 \\\\ d_2 \\\\ d_3 \\\\ d_4\n",
    "\\end{bmatrix}\n",
    ",\n",
    "\\quad\n",
    "\\frac{\\partial w}{\\partial x} = \n",
    "\\begin{bmatrix}\n",
    "\\frac{\\partial N_1}{\\partial x}  & \\frac{\\partial N_2}{\\partial x}  & \\frac{\\partial N_3}{\\partial x} & \\frac{\\partial N_4}{\\partial x}\n",
    "\\end{bmatrix}\n",
    "\\begin{bmatrix}\n",
    "d_1 \\\\ d_2 \\\\ d_3 \\\\ d_4\n",
    "\\end{bmatrix}\n",
    "\n",
    ",\n",
    "\\quad\n",
    "\\frac{\\partial w}{\\partial y} = \n",
    "\\begin{bmatrix}\n",
    "\\frac{\\partial N_1}{\\partial y}  & \\frac{\\partial N_2}{\\partial y}  & \\frac{\\partial N_3}{\\partial y} & \\frac{\\partial N_4}{\\partial y}\n",
    "\\end{bmatrix}\n",
    "\\begin{bmatrix}\n",
    "d_1 \\\\ d_2 \\\\ d_3 \\\\ d_4\n",
    "\\end{bmatrix}. \\tag{4} $$"
   ]
  },
  {
   "attachments": {},
   "cell_type": "markdown",
   "metadata": {},
   "source": [
    "Ayrıca yatay ve düşey yöndeki yer değiştirmeleri ifade eden $u$ ve $v$ fonksiyonları deneme fonksiyonları cinsinden:\n",
    "\n",
    "$$\n",
    "u = \n",
    "\\begin{bmatrix}\n",
    "N_1 & N_2 & N_3 & N_4\n",
    "\\end{bmatrix}\n",
    "\\begin{bmatrix}\n",
    "u_1 \\\\ u_2 \\\\ u_3 \\\\ u_4\n",
    "\\end{bmatrix}\n",
    ",\n",
    "\\quad\n",
    "\\frac{\\partial u}{\\partial x} = \n",
    "\\begin{bmatrix}\n",
    "\\frac{\\partial N_1}{\\partial x}  & \\frac{\\partial N_2}{\\partial x}  & \\frac{\\partial N_3}{\\partial x} & \\frac{\\partial N_4}{\\partial x}\n",
    "\\end{bmatrix}\n",
    "\\begin{bmatrix}\n",
    "u_1 \\\\ u_2 \\\\ u_3 \\\\ u_4\n",
    "\\end{bmatrix}\n",
    ",\n",
    "\\quad\n",
    "\\frac{\\partial u}{\\partial y} = \n",
    "\\begin{bmatrix}\n",
    "\\frac{\\partial N_1}{\\partial y}  & \\frac{\\partial N_2}{\\partial y}  & \\frac{\\partial N_3}{\\partial y} & \\frac{\\partial N_4}{\\partial y}\n",
    "\\end{bmatrix}\n",
    "\\begin{bmatrix}\n",
    "u_1 \\\\ u_2 \\\\ u_3 \\\\ u_4\n",
    "\\end{bmatrix}, \\tag{5}$$\n",
    "ve\n",
    "\n"
   ]
  },
  {
   "attachments": {},
   "cell_type": "markdown",
   "metadata": {},
   "source": [
    "$$\n",
    "v = \n",
    "\\begin{bmatrix}\n",
    "N_1 & N_2 & N_3 & N_4\n",
    "\\end{bmatrix}\n",
    "\\begin{bmatrix}\n",
    "v_1 \\\\ v_2 \\\\ v_3 \\\\ v_4\n",
    "\\end{bmatrix}\n",
    ",\n",
    "\\quad\n",
    "\\frac{\\partial v}{\\partial x} = \n",
    "\\begin{bmatrix}\n",
    "\\frac{\\partial N_1}{\\partial x}  & \\frac{\\partial N_2}{\\partial x}  & \\frac{\\partial N_3}{\\partial x} & \\frac{\\partial N_4}{\\partial x}\n",
    "\\end{bmatrix}\n",
    "\\begin{bmatrix}\n",
    "v_1 \\\\ v_2 \\\\ v_3 \\\\ v_4\n",
    "\\end{bmatrix}\n",
    "\n",
    ",\n",
    "\\quad\n",
    "\\frac{\\partial v}{\\partial y} = \n",
    "\\begin{bmatrix}\n",
    "\\frac{\\partial N_1}{\\partial y}  & \\frac{\\partial N_2}{\\partial y}  & \\frac{\\partial N_3}{\\partial y} & \\frac{\\partial N_4}{\\partial y}\n",
    "\\end{bmatrix}\n",
    "\\begin{bmatrix}\n",
    "v_1 \\\\ v_2 \\\\ v_3 \\\\ v_4\n",
    "\\end{bmatrix}. \\tag{6}$$"
   ]
  },
  {
   "attachments": {},
   "cell_type": "markdown",
   "metadata": {},
   "source": [
    "Denklem (3),(4),(5), ve (6)'yı denklem (2)'nin sağ tarafındaki terimde yerine koyar ve matrisleri gruplarsak:\n",
    "\n",
    "$$\\int_{\\Omega}\\begin{bmatrix} c_1 \\\\ d_1 \\\\ c_2 \\\\ d_2 \\\\ c_3 \\\\ d_3 \\\\ c_4 \\\\ d_4 \\end{bmatrix} \\begin{bmatrix} \\frac{\\partial N_1}{\\partial x}  & 0 & \\frac{\\partial N_2}{\\partial x}  & 0 & \\frac{\\partial N_3}{\\partial x} & 0 & \\frac{\\partial N_4}{\\partial x} & 0 & \\\\ \\\\ 0 & \\frac{\\partial N_1}{\\partial y}  & 0 & \\frac{\\partial N_2}{\\partial y}  & 0 & \\frac{\\partial N_3}{\\partial y} & 0 & \\frac{\\partial N_4}{\\partial y} \\\\ \\\\ \\frac{\\partial N_1}{\\partial y}  & \\frac{\\partial N_1}{\\partial x}  & \\frac{\\partial N_2}{\\partial y} & \\frac{\\partial N_2}{\\partial x} & \\frac{\\partial N_3}{\\partial y}  & \\frac{\\partial N_3}{\\partial x}  & \\frac{\\partial N_4}{\\partial y} & \\frac{\\partial N_4}{\\partial x} \\end{bmatrix}^\\top \\mathbf{C}\\begin{bmatrix} \\frac{\\partial N_1}{\\partial x}  & 0 & \\frac{\\partial N_2}{\\partial x}  & 0 & \\frac{\\partial N_3}{\\partial x} & 0 & \\frac{\\partial N_4}{\\partial x} & 0 & \\\\ \\\\ 0 & \\frac{\\partial N_1}{\\partial y}  & 0 & \\frac{\\partial N_2}{\\partial y}  & 0 & \\frac{\\partial N_3}{\\partial y} & 0 & \\frac{\\partial N_4}{\\partial y} \\\\ \\\\ \\frac{\\partial N_1}{\\partial y}  & \\frac{\\partial N_1}{\\partial x}  & \\frac{\\partial N_2}{\\partial y} & \\frac{\\partial N_2}{\\partial x} & \\frac{\\partial N_3}{\\partial y}  & \\frac{\\partial N_3}{\\partial x}  & \\frac{\\partial N_4}{\\partial y} & \\frac{\\partial N_4}{\\partial x} \\end{bmatrix} \\begin{bmatrix} u_1 \\\\ v_1 \\\\ u_2 \\\\ v_2 \\\\ u_3 \\\\ v_3 \\\\ u_4 \\\\ v_4 \\end{bmatrix}d\\Omega \\tag{7}$$\n",
    "\n",
    "elde etmiş oluruz."
   ]
  },
  {
   "attachments": {},
   "cell_type": "markdown",
   "metadata": {},
   "source": [
    "Denklem (7)'deki integrali referans elemanını kullanarak hesaplayabilmek için bölüm 7'de yaptığımız gibi dönüşüm yapacağız. $d\\Omega = d\\eta d\\xi det(\\mathbf{J})$ ve \n",
    "\n",
    "$$\\begin{bmatrix}\n",
    "\\frac{\\partial}{\\partial x}\\\\\n",
    "\\frac{\\partial}{\\partial y}\n",
    "\\end{bmatrix}\n",
    "= \\mathbf{J^{-1}}\n",
    "\\begin{bmatrix}\n",
    "\\frac{\\partial}{\\partial \\xi}\\\\\n",
    "\\frac{\\partial}{\\partial \\eta}\n",
    "\\end{bmatrix}$$\n",
    "eşitliklerini kullanacağız. Denklem (7)'deki 2. terimi aşağıdaki gibi yazabiliriz:\n",
    "\n",
    "$$\\begin{bmatrix} \\frac{\\partial N_1}{\\partial x}  & 0 & \\frac{\\partial N_2}{\\partial x}  & 0 & \\frac{\\partial N_3}{\\partial x} & 0 & \\frac{\\partial N_4}{\\partial x} & 0 & \\\\ \\\\ 0 & \\frac{\\partial N_1}{\\partial y}  & 0 & \\frac{\\partial N_2}{\\partial y}  & 0 & \\frac{\\partial N_3}{\\partial y} & 0 & \\frac{\\partial N_4}{\\partial y} \\\\ \\\\ \\frac{\\partial N_1}{\\partial y}  & \\frac{\\partial N_1}{\\partial x}  & \\frac{\\partial N_2}{\\partial y} & \\frac{\\partial N_2}{\\partial x} & \\frac{\\partial N_3}{\\partial y}  & \\frac{\\partial N_3}{\\partial x}  & \\frac{\\partial N_4}{\\partial y} & \\frac{\\partial N_4}{\\partial x} \\end{bmatrix} = \\begin{bmatrix} 1 & 0 & 0 & 0 \\\\ 0 & 0 & 0 & 1 \\\\ 0 & 1 & 1 & 0 \\end{bmatrix} \\times \\begin{bmatrix} \\mathbf{J^{-1}} & 0 \\\\ 0 & \\mathbf{J^{-1}} \\end{bmatrix} \\times \\begin{bmatrix} \\frac{\\partial N_1}{\\partial \\xi}  & 0 & \\frac{\\partial N_2}{\\partial \\xi}  & 0 & \\frac{\\partial N_3}{\\partial \\xi} & 0 & \\frac{\\partial N_4}{\\partial \\xi} & 0 & \\\\ \\\\ \\frac{\\partial N_1}{\\partial \\eta} & 0  & \\frac{\\partial N_2}{\\partial \\eta} & 0  & \\frac{\\partial N_3}{\\partial \\eta} & 0 & \\frac{\\partial N_4}{\\partial \\eta} & 0 \\\\ \\\\ 0  & \\frac{\\partial N_1}{\\partial \\xi}  & 0 & \\frac{\\partial N_2}{\\partial \\xi} & 0  & \\frac{\\partial N_3}{\\partial \\xi}  & 0 & \\frac{\\partial N_4}{\\partial \\xi}\\\\ \\\\ 0  & \\frac{\\partial N_1}{\\partial \\eta}  & 0 & \\frac{\\partial N_2}{\\partial \\eta} & 0  & \\frac{\\partial N_3}{\\partial \\eta}  & 0 & \\frac{\\partial N_4}{\\partial \\eta} \\end{bmatrix}. \\tag{8} $$\n",
    "\n",
    "Denklem (8)'in detaylı türetimi [1]' de bulunabilir."
   ]
  },
  {
   "attachments": {},
   "cell_type": "markdown",
   "metadata": {},
   "source": [
    "Denklemleri daha kısa halde yazabilmek adına denklem (8)'in sağ tarafındaki terimleri sırasıyla $ \\mathbf{H}, \\mathbf{J},$ ve $\\mathbf{N}$ ile ifade edelim. Ayrıca denklem (7)'deki ilk ve son terimi sırası ile $\\mathbf{c}$ ve $\\mathbf{u}$ diyelim ve dönüşümleri uygulayıp denklem (7)'yi tekrar yazalım:\n",
    "\n",
    "\n",
    "$$\\int_{-1}^{1}\\int_{-1}^{1}\\mathbf{c} \\mathbf{N}^{T}\\mathbf{J}^{T}\\mathbf{H}^{T}\\mathbf{C}\\mathbf{H}\\mathbf{J}\\mathbf{N}\\mathbf{u}d\\eta d\\xi det(\\mathbf{J}) = \\mathbf{c}\\mathbf{K}\\mathbf{u}.\\tag{9} $$\n",
    "\n",
    "Denklem (9)'daki $\\mathbf{N}$ ve $\\mathbf{H}$ matrisleri sabit değerlidir. Ayrıca homojen ve isotrop bir kirişi incelediğimiz için $\\mathbf{C}$'de sabit değerlidir. Her eleman için hesaplanması gereken tek terim $\\mathbf{J}$ matrisidir."
   ]
  },
  {
   "attachments": {},
   "cell_type": "markdown",
   "metadata": {},
   "source": [
    "Şimdi denklem (1)'deki son terime bakalım. Bu son terim başta belirttiğimiz gibi kütle kuvvetlerinin yaptığı işi ifade eder. İncelemiş olduğumuz problemde herhangi bir kütle kuvveti olmadığı için, bu terimin katkısı sıfır olacaktır. O yüzden denklem (1)'deki ilk terim ile devam edebiliriz. Denklem (2) ve (3)'teki test fonksiyonlarını kullanarak ilk terimi aşağıdaki gibi yazalım:\n",
    "\n",
    "\n",
    "$$ \\int_{\\Gamma} (\\begin{bmatrix}\n",
    "c_1 & c_2 & c_3 & c_4\n",
    "\\end{bmatrix}\n",
    "\\begin{bmatrix}\n",
    "N_1 \\\\ N_2 \\\\ N_3 \\\\ N_4\n",
    "\\end{bmatrix}t_{x} + \\begin{bmatrix}\n",
    "d_1 & d_2 & d_3 & d_4\n",
    "\\end{bmatrix}\n",
    "\\begin{bmatrix}\n",
    "N_1 \\\\ N_2 \\\\ N_3 \\\\ N_4\n",
    "\\end{bmatrix}t_{y}) d\\Gamma= \\int_{\\Gamma} \\begin{bmatrix}\n",
    "c_1 & d_1 & c_2 & d_2 & c_3 & d_3 & c_4 & d_4\n",
    "\\end{bmatrix}\\begin{bmatrix}\n",
    "N_1 t_{x} \\\\ N_1 t_{y} \\\\ N_2 t_{x} \\\\ N_2 t_{y} \\\\N_3 t_{x} \\\\ N_3 t_{y} \\\\N_4 t_{x} \\\\ N_4 t_{y}\n",
    "\\end{bmatrix} d\\Gamma. \\tag{10}$$"
   ]
  },
  {
   "attachments": {},
   "cell_type": "markdown",
   "metadata": {},
   "source": [
    "Denklem (10)'daki integrali referans elemanı kullanarak hesaplayabilmek için bölüm 7'de yaptığımıza benzer bir integral değişimini uygulamamız gerekir. $d\\Gamma$'nın eş değerleri:\n",
    "\n",
    "$$ d\\Gamma =\\begin{cases} \\left[\\sqrt{\\left(\\frac{\\partial x}{\\partial \\xi}\\right)^2+\\left(\\frac{\\partial y}{\\partial \\xi}\\right)^2}\\right]d\\xi = L_{h}d\\xi  & \\text{Yatay kenarsa,} \\\\ \\left[\\sqrt{\\left(\\frac{\\partial x}{\\partial \\eta}\\right)^2+\\left(\\frac{\\partial y}{\\partial \\eta}\\right)^2}\\right]d\\eta = L_{v}d\\eta  & \\text{Düşey kenarsa} \\end{cases}$$\n",
    "\n",
    "şeklinde yazılabilir. Burada yatay kenarsa ve düşey kenarsa ifadeleri fiziksel elemandan referans elemana eşleme yaparken, referans elemanda yatay ya da düşey kenara karşılık gelmeyi ifade eder. Bu eşitliklerin ve eşlemenin detaylı anlatımı [1]' de 5.2 ve 7.2'inci bölümde bulunabilir. Bu integral dönüşümünü kullanalım, integral sınırlarını referans elemana göre düzenleyelim ve denklem (10)'u tekrar yazalım:\n",
    "\n",
    "$$ \\int_{\\Gamma} \\begin{bmatrix}\n",
    "c_1 & d_1 & c_2 & d_2 & c_3 & d_3 & c_4 & d_4\n",
    "\\end{bmatrix}\\begin{bmatrix}\n",
    "N_1 t_{x} \\\\ N_1 t_{y} \\\\ N_2 t_{x} \\\\ N_2 t_{y} \\\\N_3 t_{x} \\\\ N_3 t_{y} \\\\N_4 t_{x} \\\\ N_4 t_{y}\n",
    "\\end{bmatrix} d\\Gamma = \\begin{cases} \\int_{-1}^{1} \\begin{bmatrix}\n",
    "c_1 & d_1 & c_2 & d_2 & c_3 & d_3 & c_4 & d_4\n",
    "\\end{bmatrix}\\begin{bmatrix}\n",
    "N_1 t_{x} \\\\ N_1 t_{y} \\\\ N_2 t_{x} \\\\ N_2 t_{y} \\\\N_3 t_{x} \\\\ N_3 t_{y} \\\\N_4 t_{x} \\\\ N_4 t_{y}\n",
    "\\end{bmatrix}L_{h}d\\xi & \\text{Yatay kenarsa}, \\\\ \\\\ \\int_{-1}^{1} \\begin{bmatrix}\n",
    "c_1 & d_1 & c_2 & d_2 & c_3 & d_3 & c_4 & d_4\n",
    "\\end{bmatrix}\\begin{bmatrix}\n",
    "N_1 t_{x} \\\\ N_1 t_{y} \\\\ N_2 t_{x} \\\\ N_2 t_{y} \\\\N_3 t_{x} \\\\ N_3 t_{y} \\\\N_4 t_{x} \\\\ N_4 t_{y}\n",
    "\\end{bmatrix}L_{v}d\\eta& \\text{Düşey kenarsa.} \\end{cases} \\tag{11}$$"
   ]
  },
  {
   "attachments": {},
   "cell_type": "markdown",
   "metadata": {},
   "source": [
    "Son olarak denklem (1)'deki 3. ve 4. terimlere göz atalım. Bunlar en başta belirtildiği gibi noktasal yüklerin etkisini ifade ederler. Bu noktasal yüklerin etkisi, yükün etki ettiği düğüm noktasına etki ettirilir. Sonuç olarak denklem (1)'deki 1,2,3,4 ve sonuncu terimin toplamı geçmiş bölümlerde kuvvet vektörü diye adlandırdığımız vektörü oluşturur. Denklem (1)'in matris formundaki son halini yazacak olursak:\n",
    "\n",
    "$$ \\mathbf{c}\\mathbf{K}\\mathbf{u} = \\mathbf{c}\\mathbf{f}$$\n",
    "\n",
    "elde edilir. Bu denklem herhangi bir $\\mathbf{c}$ vektörü için doğru olması gerektiği için bu ifade sadeleşir ve denklemimiz son şeklini alır:\n",
    "\n",
    "$$\\mathbf{K}\\mathbf{u} = \\mathbf{f}. \\tag{12}$$"
   ]
  },
  {
   "attachments": {},
   "cell_type": "markdown",
   "metadata": {},
   "source": [
    "Gelecek bölümde, bu bölümde elde ettiğimiz integralleri kullanarak eleman sertlik matrislerini ve kuvvet vektörlerini oluşturup sistemi çözümleyeceğiz."
   ]
  },
  {
   "attachments": {},
   "cell_type": "markdown",
   "metadata": {},
   "source": [
    "## Referanslar \n",
    "\n",
    "[1] Li, G. (2020). Introduction to the Finite Element Method and Implementation with MATLAB®. Cambridge University Press."
   ]
  }
 ],
 "metadata": {
  "language_info": {
   "name": "python"
  },
  "orig_nbformat": 4
 },
 "nbformat": 4,
 "nbformat_minor": 2
}
